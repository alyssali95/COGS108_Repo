{
 "cells": [
  {
   "cell_type": "markdown",
   "metadata": {},
   "source": [
    "# Political Affiliation of a County on CALFresh Applications"
   ]
  },
  {
   "cell_type": "markdown",
   "metadata": {},
   "source": [
    "## Permissions\n",
    "\n",
    "Place an `X` in the appropriate bracket below to specify if you would like your group's project to be made available to the public. (Note that student names will be included (but PIDs will be scraped from any groups who include their PIDs).\n",
    "\n",
    "* [  ] YES - make available\n",
    "* [X] NO - keep private"
   ]
  },
  {
   "cell_type": "markdown",
   "metadata": {},
   "source": [
    "# Overview"
   ]
  },
  {
   "cell_type": "markdown",
   "metadata": {},
   "source": [
    "Our project looks at data for political preference and CalFresh applications in each California county to see if a political party predicts CalFresh applications in 2018. We webscraped our CalFresh data and combined it with our county political party dataset. We analyzed this joined dataset using a t-test and linear regression models to determine if there was a relationship. From our results, we found that there was no relationship between political preference and percentage of CalFresh households in a county.\n"
   ]
  },
  {
   "cell_type": "markdown",
   "metadata": {},
   "source": [
    "# Names\n",
    "\n",
    "- Maxwell Wong\n",
    "- Alyssa Li\n",
    "- Anh Nguyen\n",
    "- Efrain Contreras"
   ]
  },
  {
   "cell_type": "markdown",
   "metadata": {},
   "source": [
    "<a id='research_question'></a>\n",
    "# Research Question"
   ]
  },
  {
   "cell_type": "markdown",
   "metadata": {},
   "source": [
    "Does political affiliation of a county in California affect the percentage of CALfresh households of that specific county?"
   ]
  },
  {
   "cell_type": "markdown",
   "metadata": {},
   "source": [
    "<a id='background'></a>\n",
    "\n",
    "## Background & Prior Work"
   ]
  },
  {
   "cell_type": "markdown",
   "metadata": {},
   "source": [
    "Calfresh is a benefit program for low-income families who meet certain federal income eligibility requirements. It was established in 1977 and is well-known as Food Stamps and administered by the California Department of Social Service (CDSS). This program helps people have healthy and nutritious meals within their budget. Each CalFresh certification has a period of 12-month and people need to re-apply after the period. Below are some eligibilities to apply for CalFresh:\n",
    "People who want to apply for Calfresh needs to have lived in the country for five years under a qualified status\n",
    "Families that only have elderly and/or disabled members and no earned incomes are certified for 36 months\n",
    "Children under 18 years old who are legally admitted for permanent residence under the Immigration and Naturalization Act\n",
    "\n",
    "The amount an individual receives from CalFresh will depend on different aspects such as income, expenses, and family size. In general, according to the DPSS, households at 130% Federal Poverty Level (FPL) are eligible for applying to CalFresh (gross income before tax). \n",
    "References (include links): \n",
    "\n",
    "1. https://www.benefits.gov/benefit/1228\n",
    "2. http://calfresh.guide/how-to-keep-getting-calfresh-benefits-certification-periods/\n",
    "3. https://www.cdss.ca.gov/inforesources/calfresh-outreach/about-us\n",
    "4. https://www.cdss.ca.gov/inforesources/cdss-programs/calfresh/eligibility-and-issuance-requirements\n",
    "5. https://www.cdss.ca.gov/foodstamps/res/pdf/CalFreshBrochureEng.pdf\n",
    "6. https://www.politico.com/2020-election/results/california/\n",
    "7. https://www.cdss.ca.gov/inforesources/research-and-data/calfresh-data-tables\n",
    "8. https://dpss.lacounty.gov/en/food/calfresh/gross-income.html"
   ]
  },
  {
   "cell_type": "markdown",
   "metadata": {},
   "source": [
    "# Hypothesis\n"
   ]
  },
  {
   "cell_type": "markdown",
   "metadata": {},
   "source": [
    "We predict that Democratic dominant counties are more likely to apply for CalFresh than Republican counties. Historically, the Republican party is regarded as the conservative party, which could potentially affect their likelihood to support and apply for benefits. On the other hand, Democrats tend to support progressive policies and may be more inclined to support and use general welfare.\n",
    "\n",
    "Source:\n",
    "https://en.wikipedia.org/wiki/Political_positions_of_the_Democratic_Party#:~:text=The%20party%20favors%20a%20mixed,economic%20development%20and%20job%20creation."
   ]
  },
  {
   "cell_type": "markdown",
   "metadata": {},
   "source": [
    "# Dataset(s)"
   ]
  },
  {
   "cell_type": "markdown",
   "metadata": {},
   "source": [
    "Dataset 1:  Percentage of households receive food stamp in California by counties in 2018\n",
    "- Link: https://statisticalatlas.com/state/California/Food-Stamps#figure/county/most-food-stamps\n",
    "- Observations: 50\n",
    "- Notes: This dataset contains information on the 50 most populous counties of the 58 total counties in California. This website contains different datasets, broken down by different categories, about the percentage of households receiving food stamps. For this project, we will mainly focus on the percentage of recipients by counties because later on we will also look at the percentage of parties, Democrat and Republic, by counties.\n",
    "\n",
    "\n",
    "\n",
    "\n",
    "Dataset 2: Registration by County in California as of October 19, 2018\n",
    "- Link:  https://elections.cdn.sos.ca.gov/ror/15day-gen-2018/county.pdf\n",
    "- Observations: 58 counties\n",
    "- Notes: This dataset contains information on the party preference of eligible voters in all 58 counties in California and percentage of each county. This dataset contains the percentage of registration by county. In each county, we can see the percentage of registration by parties based on the total number of eligible. This is helpful as we can utilize the two datasets to calculate the percentage of food stamp recipients with the percentage of registration by parties for each county. \n",
    "\n",
    "\n",
    "\n",
    "The two datasets will be merged via county names since the county names will be unique."
   ]
  },
  {
   "cell_type": "markdown",
   "metadata": {},
   "source": [
    "# Setup"
   ]
  },
  {
   "cell_type": "markdown",
   "metadata": {},
   "source": [
    "For our project, we will analyze two different datasets.  The first dataset includes the number and percentage of CalFresh receiving households. The second dataset has information on the total number of registered voters in the counties and their registered political affiliation.\n",
    "\n",
    "The first dataset will be created via web scraping off of the CalFresh statistics webpage. We will use the package Beautiful Soup in order to scan the html of our dataset. This should allow us to gather the name of each county, the percentage and total count of CalFresh Applicants on that specific county. We are using Beautiful Soup since the native HTML reader for Pandas is designed to specifically read HTML tables and the data we are trying to scrape was not placed inside an HTML table.\t\n",
    "\n",
    "The second dataset is in a pdf file so we will read in the information with a package called Tabula-py since Pandas can not read in PDF files."
   ]
  },
  {
   "cell_type": "code",
   "execution_count": 1,
   "metadata": {},
   "outputs": [
    {
     "data": {
      "text/html": [
       "<div>\n",
       "<style scoped>\n",
       "    .dataframe tbody tr th:only-of-type {\n",
       "        vertical-align: middle;\n",
       "    }\n",
       "\n",
       "    .dataframe tbody tr th {\n",
       "        vertical-align: top;\n",
       "    }\n",
       "\n",
       "    .dataframe thead th {\n",
       "        text-align: right;\n",
       "    }\n",
       "</style>\n",
       "<table border=\"1\" class=\"dataframe\">\n",
       "  <thead>\n",
       "    <tr style=\"text-align: right;\">\n",
       "      <th></th>\n",
       "      <th>County</th>\n",
       "      <th>Percentage of CalFresh Households</th>\n",
       "      <th>Total CalFresh HouseHolds</th>\n",
       "    </tr>\n",
       "  </thead>\n",
       "  <tbody>\n",
       "    <tr>\n",
       "      <th>0</th>\n",
       "      <td>Tulare</td>\n",
       "      <td>23.4%</td>\n",
       "      <td>31.4k</td>\n",
       "    </tr>\n",
       "    <tr>\n",
       "      <th>1</th>\n",
       "      <td>Merced</td>\n",
       "      <td>21.0%</td>\n",
       "      <td>16.5k</td>\n",
       "    </tr>\n",
       "    <tr>\n",
       "      <th>2</th>\n",
       "      <td>Imperial</td>\n",
       "      <td>20.9%</td>\n",
       "      <td>9,568</td>\n",
       "    </tr>\n",
       "    <tr>\n",
       "      <th>3</th>\n",
       "      <td>Fresno</td>\n",
       "      <td>20.7%</td>\n",
       "      <td>62.1k</td>\n",
       "    </tr>\n",
       "    <tr>\n",
       "      <th>4</th>\n",
       "      <td>Madera</td>\n",
       "      <td>17.5%</td>\n",
       "      <td>7,637</td>\n",
       "    </tr>\n",
       "  </tbody>\n",
       "</table>\n",
       "</div>"
      ],
      "text/plain": [
       "     County Percentage of CalFresh Households Total CalFresh HouseHolds\n",
       "0    Tulare                             23.4%                     31.4k\n",
       "1    Merced                             21.0%                     16.5k\n",
       "2  Imperial                             20.9%                     9,568\n",
       "3    Fresno                             20.7%                     62.1k\n",
       "4    Madera                             17.5%                     7,637"
      ]
     },
     "execution_count": 1,
     "metadata": {},
     "output_type": "execute_result"
    }
   ],
   "source": [
    "#CalFresh application dataset\n",
    "from urllib.request import urlopen as uReq\n",
    "from bs4 import BeautifulSoup as soup\n",
    "import numpy as np\n",
    "import pandas as pd\n",
    "\n",
    "\n",
    "\n",
    "my_url = \"https://statisticalatlas.com/state/California/Food-Stamps\"\n",
    "\n",
    "uClient = uReq(my_url) # Open connection to the website\n",
    "page_html = uClient.read() # Grab the html\n",
    "uClient.close() # Close Connection to the website\n",
    "page_soup = soup(page_html, \"html.parser\") # Parse the html text\n",
    "\n",
    "\n",
    "\n",
    "county_data = page_soup.find(\"div\", {\"id\": \"figure/county\" }) # Get the table in counties\n",
    "\n",
    "\n",
    "county_data = county_data.g.findAll(\"text\")[7:] # Removes header from list\n",
    "\n",
    "county_data.pop(14) # Removes US from list\n",
    "county_data.pop(22) # Removes West list\n",
    "county_data.pop(22) # Removes Pacific list\n",
    "county_data.pop(29) # Removes California from list\n",
    "\n",
    "county_name_lst = county_data[:50] # Final array contains the name of 50 counties in CA\n",
    "\n",
    "county_data = county_data[50:] # Remove the name of the counties from the scrapped table \n",
    "\n",
    "\n",
    "# Creates a list contaning percentage of CalFreshCounties per county\n",
    "county_percent_lst = county_data[::3]\n",
    "\n",
    "county_percent_lst.pop(14) # Removes US from list\n",
    "county_percent_lst.pop(22) # Removes West list\n",
    "county_percent_lst.pop(22) # Removes Pacific list\n",
    "county_percent_lst.pop(29) # Removes California from list\n",
    "\n",
    "\n",
    "# Creates a list contaning count of CalFreshCounties per county\n",
    "county_count_lst = county_data[1::3] \n",
    "\n",
    "county_count_lst.pop(14) # Removes US from list\n",
    "county_count_lst.pop(22) # Removes West list\n",
    "county_count_lst.pop(22) # Removes Pacific list\n",
    "county_count_lst.pop(29) # Removes California from list\n",
    "\n",
    "\n",
    "# This for loop, goes through each HTML container in the arrays and grabs the text inside\n",
    "for index in range(len(county_name_lst)):\n",
    "    county_name_lst[index] = county_name_lst[index].text\n",
    "    county_percent_lst[index] = county_percent_lst[index].text\n",
    "    county_count_lst[index] = county_count_lst[index].text\n",
    "    \n",
    "\n",
    "# Create the dataframe\n",
    "calFreshDf = pd.DataFrame({\"County\": county_name_lst,\n",
    "                   \"Percentage of CalFresh Households\": county_percent_lst,\n",
    "                   \"Total CalFresh HouseHolds\": county_count_lst})\n",
    "\n",
    "calFreshDf.head()"
   ]
  },
  {
   "cell_type": "code",
   "execution_count": 2,
   "metadata": {},
   "outputs": [],
   "source": [
    "#California county party dataset\n",
    "from tabula import read_pdf\n",
    "import pandas as pd\n",
    "\n",
    "# makes you print all rows\n",
    "pd.set_option('display.max_rows', None)\n",
    "\n",
    "# reads in all pages into one big list, each list is its own dataframe\n",
    "readDf = read_pdf(\"county.pdf\", pages = \"all\")"
   ]
  },
  {
   "cell_type": "code",
   "execution_count": 3,
   "metadata": {},
   "outputs": [],
   "source": [
    "#Import necessary packages\n",
    "%matplotlib inline\n",
    "\n",
    "import matplotlib.pyplot as plt\n",
    "import seaborn as sns\n",
    "import patsy\n",
    "import statsmodels.api as sm\n",
    "import scipy.stats as stats\n",
    "from scipy.stats import ttest_ind, chisquare\n",
    "import warnings\n",
    "warnings.filterwarnings(\"ignore\")"
   ]
  },
  {
   "cell_type": "markdown",
   "metadata": {},
   "source": [
    "# Data Cleaning"
   ]
  },
  {
   "cell_type": "markdown",
   "metadata": {},
   "source": [
    "1. Drop eligibility column in voter registration dataset. \n",
    "2. Combine Non-major party voter registration (American Independent, Green, Libertarian, Peace and Freedom, Unknown, Other) into one column (Third Party) by summing them up.\n",
    "3. Take out rows in the voter registration dataset and CalFresh dataset that deals with count instead of percentage.\n",
    "4. Merge county and calfresh datasets."
   ]
  },
  {
   "cell_type": "code",
   "execution_count": 4,
   "metadata": {},
   "outputs": [
    {
     "data": {
      "text/html": [
       "<div>\n",
       "<style scoped>\n",
       "    .dataframe tbody tr th:only-of-type {\n",
       "        vertical-align: middle;\n",
       "    }\n",
       "\n",
       "    .dataframe tbody tr th {\n",
       "        vertical-align: top;\n",
       "    }\n",
       "\n",
       "    .dataframe thead th {\n",
       "        text-align: right;\n",
       "    }\n",
       "</style>\n",
       "<table border=\"1\" class=\"dataframe\">\n",
       "  <thead>\n",
       "    <tr style=\"text-align: right;\">\n",
       "      <th></th>\n",
       "      <th>County</th>\n",
       "      <th>Democratic</th>\n",
       "      <th>Republican</th>\n",
       "      <th>No Preference</th>\n",
       "      <th>Third Party</th>\n",
       "    </tr>\n",
       "  </thead>\n",
       "  <tbody>\n",
       "    <tr>\n",
       "      <th>0</th>\n",
       "      <td>Alameda</td>\n",
       "      <td>55.67%</td>\n",
       "      <td>11.05%</td>\n",
       "      <td>29.16%</td>\n",
       "      <td>4.11%</td>\n",
       "    </tr>\n",
       "    <tr>\n",
       "      <th>1</th>\n",
       "      <td>Alpine</td>\n",
       "      <td>41.16%</td>\n",
       "      <td>27.04%</td>\n",
       "      <td>26.39%</td>\n",
       "      <td>5.41%</td>\n",
       "    </tr>\n",
       "    <tr>\n",
       "      <th>2</th>\n",
       "      <td>Amador</td>\n",
       "      <td>28.80%</td>\n",
       "      <td>43.99%</td>\n",
       "      <td>20.68%</td>\n",
       "      <td>6.53%</td>\n",
       "    </tr>\n",
       "    <tr>\n",
       "      <th>3</th>\n",
       "      <td>Butte</td>\n",
       "      <td>34.91%</td>\n",
       "      <td>34.18%</td>\n",
       "      <td>24.02%</td>\n",
       "      <td>6.90%</td>\n",
       "    </tr>\n",
       "    <tr>\n",
       "      <th>4</th>\n",
       "      <td>Calaveras</td>\n",
       "      <td>27.37%</td>\n",
       "      <td>41.45%</td>\n",
       "      <td>23.09%</td>\n",
       "      <td>8.10%</td>\n",
       "    </tr>\n",
       "  </tbody>\n",
       "</table>\n",
       "</div>"
      ],
      "text/plain": [
       "      County Democratic Republican No Preference Third Party\n",
       "0    Alameda     55.67%     11.05%        29.16%       4.11%\n",
       "1     Alpine     41.16%     27.04%        26.39%       5.41%\n",
       "2     Amador     28.80%     43.99%        20.68%       6.53%\n",
       "3      Butte     34.91%     34.18%        24.02%       6.90%\n",
       "4  Calaveras     27.37%     41.45%        23.09%       8.10%"
      ]
     },
     "execution_count": 4,
     "metadata": {},
     "output_type": "execute_result"
    }
   ],
   "source": [
    "# used to keep track of dataframes that we joined together\n",
    "dfList = []\n",
    "\n",
    "# each county data is kept in seperate pages so we need to prepare the data for joining\n",
    "for i in range(0, len(readDf), 2):\n",
    "    # combine the dataframe with next page since they are split into two pages (basically 2 pages are used to keep one dataframe worth of info)\n",
    "    tmp = pd.concat([readDf[i], readDf[i + 1]], axis = 1)\n",
    "\n",
    "    # we join side by side, so theres another column that has county, but this column is a duplicate of initial county column so we need to drop the duplicate\n",
    "    tmp = tmp.loc[:, ~tmp.columns.duplicated()]\n",
    "\n",
    "    # drop the rows that have a percent (keep county)\n",
    "    countyDf = tmp.iloc[::2].dropna(axis=1).reset_index(drop=True)\n",
    "    countyDf.index = range(0, len(countyDf))\n",
    "\n",
    "    # get rid of columns that have total count (keep county column only since other columns have total count)\n",
    "    countyDf = countyDf[\"County\"]\n",
    "\n",
    "    # drop the rows that have a county (keep row)\n",
    "    rowDf = tmp.iloc[1::2].reset_index(drop=True)\n",
    "    rowDf.index = range(0, len(countyDf))\n",
    "\n",
    "    # remove columns that don't deal with voter registration by party\n",
    "    rowDf = rowDf.drop(rowDf.columns[:3], axis = 1)\n",
    "\n",
    "    # place rowDf to right of countyDf\n",
    "    combineDf = pd.concat([countyDf, rowDf], axis=1) \n",
    "\n",
    "    # add combined df to list\n",
    "    dfList.append(combineDf)\n",
    "\n",
    "# combine all the dataframes into one big dataframe, so all 50 counties worth of data is kept in one dataframe\n",
    "completeDf = pd.DataFrame()\n",
    "for df in dfList:\n",
    "    completeDf = completeDf.append(df, ignore_index=True)\n",
    "\n",
    "# drop last row since last row is total data of state not county\n",
    "completeDf = completeDf[:-1]\n",
    "\n",
    "\n",
    "# sum up third party voters into one\n",
    "thirdParty = [\"Independent\", \"Green\", \"Libertarian\", \"Freedom\", \"Unknown\", \"Other\"]\n",
    "\n",
    "# convert string percententage values to float\n",
    "def convertToFloat(x):\n",
    "    if type(x) is str:\n",
    "        return float(x.strip(\"%\"))\n",
    "    return x\n",
    "\n",
    "# convert float representation to percentage\n",
    "def convertToPercent(x):\n",
    "    return format(x, '.2f') + \"%\"\n",
    "\n",
    "# convert string values in pdf into int so we can sum\n",
    "for pty in thirdParty:\n",
    "    completeDf[pty] = completeDf[pty].map(convertToFloat)\n",
    "\n",
    "# add the values of third party voters into one column\n",
    "completeDf[\"Third Party\"] = completeDf[thirdParty[0]] + completeDf[thirdParty[1]] + completeDf[thirdParty[2]] + completeDf[thirdParty[3]] + completeDf[thirdParty[4]] + completeDf[thirdParty[5]]\n",
    "\n",
    "# convert the int value back into string percent\n",
    "completeDf[\"Third Party\"] = completeDf[\"Third Party\"].map(convertToPercent)\n",
    "\n",
    "# drop third party columns\n",
    "completeDf = completeDf.drop(columns=thirdParty)\n",
    "\n",
    "# update name on column since it got cut off when we read with tab\n",
    "completeDf = completeDf.rename(columns = {\"Preference\": \"No Preference\"})\n",
    "\n",
    "completeDf.head()"
   ]
  },
  {
   "cell_type": "code",
   "execution_count": 5,
   "metadata": {},
   "outputs": [
    {
     "data": {
      "text/html": [
       "<div>\n",
       "<style scoped>\n",
       "    .dataframe tbody tr th:only-of-type {\n",
       "        vertical-align: middle;\n",
       "    }\n",
       "\n",
       "    .dataframe tbody tr th {\n",
       "        vertical-align: top;\n",
       "    }\n",
       "\n",
       "    .dataframe thead th {\n",
       "        text-align: right;\n",
       "    }\n",
       "</style>\n",
       "<table border=\"1\" class=\"dataframe\">\n",
       "  <thead>\n",
       "    <tr style=\"text-align: right;\">\n",
       "      <th></th>\n",
       "      <th>County</th>\n",
       "      <th>Democratic</th>\n",
       "      <th>Republican</th>\n",
       "      <th>No Preference</th>\n",
       "      <th>Third Party</th>\n",
       "      <th>Percentage of CalFresh Households</th>\n",
       "      <th>Total CalFresh HouseHolds</th>\n",
       "    </tr>\n",
       "  </thead>\n",
       "  <tbody>\n",
       "    <tr>\n",
       "      <th>0</th>\n",
       "      <td>Tulare</td>\n",
       "      <td>31.10%</td>\n",
       "      <td>39.19%</td>\n",
       "      <td>24.73%</td>\n",
       "      <td>4.99%</td>\n",
       "      <td>23.4%</td>\n",
       "      <td>31.4k</td>\n",
       "    </tr>\n",
       "    <tr>\n",
       "      <th>1</th>\n",
       "      <td>Merced</td>\n",
       "      <td>43.26%</td>\n",
       "      <td>27.39%</td>\n",
       "      <td>24.85%</td>\n",
       "      <td>4.50%</td>\n",
       "      <td>21.0%</td>\n",
       "      <td>16.5k</td>\n",
       "    </tr>\n",
       "    <tr>\n",
       "      <th>2</th>\n",
       "      <td>Imperial</td>\n",
       "      <td>47.53%</td>\n",
       "      <td>18.39%</td>\n",
       "      <td>29.43%</td>\n",
       "      <td>4.65%</td>\n",
       "      <td>20.9%</td>\n",
       "      <td>9,568</td>\n",
       "    </tr>\n",
       "    <tr>\n",
       "      <th>3</th>\n",
       "      <td>Fresno</td>\n",
       "      <td>37.85%</td>\n",
       "      <td>33.23%</td>\n",
       "      <td>23.84%</td>\n",
       "      <td>5.06%</td>\n",
       "      <td>20.7%</td>\n",
       "      <td>62.1k</td>\n",
       "    </tr>\n",
       "    <tr>\n",
       "      <th>4</th>\n",
       "      <td>Madera</td>\n",
       "      <td>31.57%</td>\n",
       "      <td>38.51%</td>\n",
       "      <td>24.67%</td>\n",
       "      <td>5.24%</td>\n",
       "      <td>17.5%</td>\n",
       "      <td>7,637</td>\n",
       "    </tr>\n",
       "  </tbody>\n",
       "</table>\n",
       "</div>"
      ],
      "text/plain": [
       "     County Democratic Republican No Preference Third Party  \\\n",
       "0    Tulare     31.10%     39.19%        24.73%       4.99%   \n",
       "1    Merced     43.26%     27.39%        24.85%       4.50%   \n",
       "2  Imperial     47.53%     18.39%        29.43%       4.65%   \n",
       "3    Fresno     37.85%     33.23%        23.84%       5.06%   \n",
       "4    Madera     31.57%     38.51%        24.67%       5.24%   \n",
       "\n",
       "  Percentage of CalFresh Households Total CalFresh HouseHolds  \n",
       "0                             23.4%                     31.4k  \n",
       "1                             21.0%                     16.5k  \n",
       "2                             20.9%                     9,568  \n",
       "3                             20.7%                     62.1k  \n",
       "4                             17.5%                     7,637  "
      ]
     },
     "execution_count": 5,
     "metadata": {},
     "output_type": "execute_result"
    }
   ],
   "source": [
    "#Join county and calfresh datasets\n",
    "finalDF = pd.merge(completeDf, calFreshDf, on='County', how='right')\n",
    "\n",
    "finalDF.head()"
   ]
  },
  {
   "cell_type": "code",
   "execution_count": 6,
   "metadata": {},
   "outputs": [],
   "source": [
    "# Duplicates df for standarization\n",
    "finalDFStandardized = finalDF"
   ]
  },
  {
   "cell_type": "code",
   "execution_count": 7,
   "metadata": {},
   "outputs": [],
   "source": [
    "# Standardize columns with '%'\n",
    "# Function replaces '%' and converts it to float\n",
    "def standardize_percentage(string):\n",
    "    \n",
    "    string = string.lower()\n",
    "    string = string.strip()\n",
    "    \n",
    "    string = string.replace('%','')\n",
    "    \n",
    "    string = string.strip()\n",
    "    \n",
    "    string = float(string)\n",
    "    \n",
    "    return string"
   ]
  },
  {
   "cell_type": "code",
   "execution_count": 8,
   "metadata": {},
   "outputs": [],
   "source": [
    "#Transform 'Democratic' Column\n",
    "finalDFStandardized['Democratic'] = finalDFStandardized['Democratic'].apply(standardize_percentage)\n",
    "\n",
    "#Transform 'Republican' Column\n",
    "finalDFStandardized['Republican'] = finalDFStandardized['Republican'].apply(standardize_percentage)\n",
    "\n",
    "#Transform 'No Preference' Column\n",
    "finalDFStandardized['No Preference'] = finalDFStandardized['No Preference'].apply(standardize_percentage)\n",
    "\n",
    "#Transform 'Third Party' Column\n",
    "finalDFStandardized['Third Party'] = finalDFStandardized['Third Party'].apply(standardize_percentage)\n",
    "\n",
    "#Transform 'Percentage of CalFresh Households' Column\n",
    "finalDFStandardized['Percentage of CalFresh Households'] = finalDFStandardized['Percentage of CalFresh Households'].apply(standardize_percentage)"
   ]
  },
  {
   "cell_type": "code",
   "execution_count": 9,
   "metadata": {},
   "outputs": [],
   "source": [
    "# Standardize columns that contain 'k' and ','\n",
    "# Function replaces 'k' and ',' and converts data to float\n",
    "def standardize_k(string):\n",
    "    \n",
    "    string = string.lower()\n",
    "    string = string.strip()\n",
    "    \n",
    "    if 'k' in string:\n",
    "        string = string.replace('k','')\n",
    "        string = string.strip()\n",
    "    \n",
    "        string = float(string)\n",
    "        string = string*1000\n",
    "        string = int(string)\n",
    "        \n",
    "    elif ',' in string:\n",
    "        string = string.replace(',','')\n",
    "        string = int(string) \n",
    "        \n",
    "    else:\n",
    "        string = int(string)\n",
    "        \n",
    "    return string"
   ]
  },
  {
   "cell_type": "code",
   "execution_count": 10,
   "metadata": {},
   "outputs": [
    {
     "data": {
      "text/html": [
       "<div>\n",
       "<style scoped>\n",
       "    .dataframe tbody tr th:only-of-type {\n",
       "        vertical-align: middle;\n",
       "    }\n",
       "\n",
       "    .dataframe tbody tr th {\n",
       "        vertical-align: top;\n",
       "    }\n",
       "\n",
       "    .dataframe thead th {\n",
       "        text-align: right;\n",
       "    }\n",
       "</style>\n",
       "<table border=\"1\" class=\"dataframe\">\n",
       "  <thead>\n",
       "    <tr style=\"text-align: right;\">\n",
       "      <th></th>\n",
       "      <th>County</th>\n",
       "      <th>Democratic</th>\n",
       "      <th>Republican</th>\n",
       "      <th>No Preference</th>\n",
       "      <th>Third Party</th>\n",
       "      <th>Percentage of CalFresh Households</th>\n",
       "      <th>Total CalFresh HouseHolds</th>\n",
       "    </tr>\n",
       "  </thead>\n",
       "  <tbody>\n",
       "    <tr>\n",
       "      <th>0</th>\n",
       "      <td>Tulare</td>\n",
       "      <td>31.10</td>\n",
       "      <td>39.19</td>\n",
       "      <td>24.73</td>\n",
       "      <td>4.99</td>\n",
       "      <td>23.4</td>\n",
       "      <td>31400</td>\n",
       "    </tr>\n",
       "    <tr>\n",
       "      <th>1</th>\n",
       "      <td>Merced</td>\n",
       "      <td>43.26</td>\n",
       "      <td>27.39</td>\n",
       "      <td>24.85</td>\n",
       "      <td>4.50</td>\n",
       "      <td>21.0</td>\n",
       "      <td>16500</td>\n",
       "    </tr>\n",
       "    <tr>\n",
       "      <th>2</th>\n",
       "      <td>Imperial</td>\n",
       "      <td>47.53</td>\n",
       "      <td>18.39</td>\n",
       "      <td>29.43</td>\n",
       "      <td>4.65</td>\n",
       "      <td>20.9</td>\n",
       "      <td>9568</td>\n",
       "    </tr>\n",
       "    <tr>\n",
       "      <th>3</th>\n",
       "      <td>Fresno</td>\n",
       "      <td>37.85</td>\n",
       "      <td>33.23</td>\n",
       "      <td>23.84</td>\n",
       "      <td>5.06</td>\n",
       "      <td>20.7</td>\n",
       "      <td>62100</td>\n",
       "    </tr>\n",
       "    <tr>\n",
       "      <th>4</th>\n",
       "      <td>Madera</td>\n",
       "      <td>31.57</td>\n",
       "      <td>38.51</td>\n",
       "      <td>24.67</td>\n",
       "      <td>5.24</td>\n",
       "      <td>17.5</td>\n",
       "      <td>7637</td>\n",
       "    </tr>\n",
       "  </tbody>\n",
       "</table>\n",
       "</div>"
      ],
      "text/plain": [
       "     County  Democratic  Republican  No Preference  Third Party  \\\n",
       "0    Tulare       31.10       39.19          24.73         4.99   \n",
       "1    Merced       43.26       27.39          24.85         4.50   \n",
       "2  Imperial       47.53       18.39          29.43         4.65   \n",
       "3    Fresno       37.85       33.23          23.84         5.06   \n",
       "4    Madera       31.57       38.51          24.67         5.24   \n",
       "\n",
       "   Percentage of CalFresh Households  Total CalFresh HouseHolds  \n",
       "0                               23.4                      31400  \n",
       "1                               21.0                      16500  \n",
       "2                               20.9                       9568  \n",
       "3                               20.7                      62100  \n",
       "4                               17.5                       7637  "
      ]
     },
     "execution_count": 10,
     "metadata": {},
     "output_type": "execute_result"
    }
   ],
   "source": [
    "# Transform 'Total CalFresh HouseHolds' Column\n",
    "finalDFStandardized['Total CalFresh HouseHolds'] = finalDFStandardized['Total CalFresh HouseHolds'].apply(standardize_k)\n",
    "\n",
    "finalDFStandardized.head()"
   ]
  },
  {
   "cell_type": "code",
   "execution_count": 11,
   "metadata": {},
   "outputs": [
    {
     "data": {
      "text/html": [
       "<div>\n",
       "<style scoped>\n",
       "    .dataframe tbody tr th:only-of-type {\n",
       "        vertical-align: middle;\n",
       "    }\n",
       "\n",
       "    .dataframe tbody tr th {\n",
       "        vertical-align: top;\n",
       "    }\n",
       "\n",
       "    .dataframe thead th {\n",
       "        text-align: right;\n",
       "    }\n",
       "</style>\n",
       "<table border=\"1\" class=\"dataframe\">\n",
       "  <thead>\n",
       "    <tr style=\"text-align: right;\">\n",
       "      <th></th>\n",
       "      <th>County</th>\n",
       "      <th>Democratic</th>\n",
       "      <th>Republican</th>\n",
       "      <th>No Preference</th>\n",
       "      <th>Third Party</th>\n",
       "      <th>PercentCFHH</th>\n",
       "      <th>TotalCFHH</th>\n",
       "    </tr>\n",
       "  </thead>\n",
       "  <tbody>\n",
       "    <tr>\n",
       "      <th>0</th>\n",
       "      <td>Tulare</td>\n",
       "      <td>31.10</td>\n",
       "      <td>39.19</td>\n",
       "      <td>24.73</td>\n",
       "      <td>4.99</td>\n",
       "      <td>23.4</td>\n",
       "      <td>31400</td>\n",
       "    </tr>\n",
       "    <tr>\n",
       "      <th>1</th>\n",
       "      <td>Merced</td>\n",
       "      <td>43.26</td>\n",
       "      <td>27.39</td>\n",
       "      <td>24.85</td>\n",
       "      <td>4.50</td>\n",
       "      <td>21.0</td>\n",
       "      <td>16500</td>\n",
       "    </tr>\n",
       "    <tr>\n",
       "      <th>2</th>\n",
       "      <td>Imperial</td>\n",
       "      <td>47.53</td>\n",
       "      <td>18.39</td>\n",
       "      <td>29.43</td>\n",
       "      <td>4.65</td>\n",
       "      <td>20.9</td>\n",
       "      <td>9568</td>\n",
       "    </tr>\n",
       "    <tr>\n",
       "      <th>3</th>\n",
       "      <td>Fresno</td>\n",
       "      <td>37.85</td>\n",
       "      <td>33.23</td>\n",
       "      <td>23.84</td>\n",
       "      <td>5.06</td>\n",
       "      <td>20.7</td>\n",
       "      <td>62100</td>\n",
       "    </tr>\n",
       "    <tr>\n",
       "      <th>4</th>\n",
       "      <td>Madera</td>\n",
       "      <td>31.57</td>\n",
       "      <td>38.51</td>\n",
       "      <td>24.67</td>\n",
       "      <td>5.24</td>\n",
       "      <td>17.5</td>\n",
       "      <td>7637</td>\n",
       "    </tr>\n",
       "    <tr>\n",
       "      <th>5</th>\n",
       "      <td>Kings</td>\n",
       "      <td>32.36</td>\n",
       "      <td>40.78</td>\n",
       "      <td>22.17</td>\n",
       "      <td>4.67</td>\n",
       "      <td>17.0</td>\n",
       "      <td>7125</td>\n",
       "    </tr>\n",
       "    <tr>\n",
       "      <th>6</th>\n",
       "      <td>Kern</td>\n",
       "      <td>33.54</td>\n",
       "      <td>35.28</td>\n",
       "      <td>25.85</td>\n",
       "      <td>5.34</td>\n",
       "      <td>17.0</td>\n",
       "      <td>44600</td>\n",
       "    </tr>\n",
       "    <tr>\n",
       "      <th>7</th>\n",
       "      <td>Yuba</td>\n",
       "      <td>26.82</td>\n",
       "      <td>36.18</td>\n",
       "      <td>29.13</td>\n",
       "      <td>7.86</td>\n",
       "      <td>16.4</td>\n",
       "      <td>4207</td>\n",
       "    </tr>\n",
       "    <tr>\n",
       "      <th>8</th>\n",
       "      <td>San Bernardino</td>\n",
       "      <td>38.98</td>\n",
       "      <td>29.43</td>\n",
       "      <td>25.88</td>\n",
       "      <td>5.71</td>\n",
       "      <td>15.9</td>\n",
       "      <td>98600</td>\n",
       "    </tr>\n",
       "    <tr>\n",
       "      <th>9</th>\n",
       "      <td>Stanislaus</td>\n",
       "      <td>37.29</td>\n",
       "      <td>34.86</td>\n",
       "      <td>22.25</td>\n",
       "      <td>5.61</td>\n",
       "      <td>15.8</td>\n",
       "      <td>26900</td>\n",
       "    </tr>\n",
       "    <tr>\n",
       "      <th>10</th>\n",
       "      <td>Tehama</td>\n",
       "      <td>25.24</td>\n",
       "      <td>42.69</td>\n",
       "      <td>25.27</td>\n",
       "      <td>6.81</td>\n",
       "      <td>14.8</td>\n",
       "      <td>3491</td>\n",
       "    </tr>\n",
       "    <tr>\n",
       "      <th>11</th>\n",
       "      <td>San Joaquin</td>\n",
       "      <td>41.62</td>\n",
       "      <td>29.13</td>\n",
       "      <td>24.60</td>\n",
       "      <td>4.65</td>\n",
       "      <td>14.4</td>\n",
       "      <td>32000</td>\n",
       "    </tr>\n",
       "    <tr>\n",
       "      <th>12</th>\n",
       "      <td>Del Norte</td>\n",
       "      <td>30.49</td>\n",
       "      <td>35.60</td>\n",
       "      <td>26.25</td>\n",
       "      <td>7.67</td>\n",
       "      <td>14.4</td>\n",
       "      <td>1359</td>\n",
       "    </tr>\n",
       "    <tr>\n",
       "      <th>13</th>\n",
       "      <td>Siskiyou</td>\n",
       "      <td>30.02</td>\n",
       "      <td>37.86</td>\n",
       "      <td>24.41</td>\n",
       "      <td>7.71</td>\n",
       "      <td>13.3</td>\n",
       "      <td>2525</td>\n",
       "    </tr>\n",
       "    <tr>\n",
       "      <th>14</th>\n",
       "      <td>Mendocino</td>\n",
       "      <td>47.24</td>\n",
       "      <td>19.77</td>\n",
       "      <td>24.94</td>\n",
       "      <td>8.05</td>\n",
       "      <td>12.7</td>\n",
       "      <td>4401</td>\n",
       "    </tr>\n",
       "    <tr>\n",
       "      <th>15</th>\n",
       "      <td>Sacramento</td>\n",
       "      <td>42.43</td>\n",
       "      <td>25.79</td>\n",
       "      <td>26.32</td>\n",
       "      <td>5.45</td>\n",
       "      <td>12.3</td>\n",
       "      <td>65099</td>\n",
       "    </tr>\n",
       "    <tr>\n",
       "      <th>16</th>\n",
       "      <td>Lake</td>\n",
       "      <td>37.83</td>\n",
       "      <td>26.67</td>\n",
       "      <td>28.77</td>\n",
       "      <td>6.72</td>\n",
       "      <td>12.3</td>\n",
       "      <td>3223</td>\n",
       "    </tr>\n",
       "    <tr>\n",
       "      <th>17</th>\n",
       "      <td>Butte</td>\n",
       "      <td>34.91</td>\n",
       "      <td>34.18</td>\n",
       "      <td>24.02</td>\n",
       "      <td>6.90</td>\n",
       "      <td>11.8</td>\n",
       "      <td>10100</td>\n",
       "    </tr>\n",
       "    <tr>\n",
       "      <th>18</th>\n",
       "      <td>Glenn</td>\n",
       "      <td>28.06</td>\n",
       "      <td>42.31</td>\n",
       "      <td>24.04</td>\n",
       "      <td>5.59</td>\n",
       "      <td>11.8</td>\n",
       "      <td>1157</td>\n",
       "    </tr>\n",
       "    <tr>\n",
       "      <th>19</th>\n",
       "      <td>Sutter</td>\n",
       "      <td>29.79</td>\n",
       "      <td>39.03</td>\n",
       "      <td>24.71</td>\n",
       "      <td>6.46</td>\n",
       "      <td>11.7</td>\n",
       "      <td>3762</td>\n",
       "    </tr>\n",
       "    <tr>\n",
       "      <th>20</th>\n",
       "      <td>Humboldt</td>\n",
       "      <td>43.85</td>\n",
       "      <td>22.77</td>\n",
       "      <td>25.79</td>\n",
       "      <td>7.58</td>\n",
       "      <td>11.7</td>\n",
       "      <td>6296</td>\n",
       "    </tr>\n",
       "    <tr>\n",
       "      <th>21</th>\n",
       "      <td>Colusa</td>\n",
       "      <td>31.20</td>\n",
       "      <td>39.40</td>\n",
       "      <td>25.17</td>\n",
       "      <td>4.24</td>\n",
       "      <td>11.4</td>\n",
       "      <td>793</td>\n",
       "    </tr>\n",
       "    <tr>\n",
       "      <th>22</th>\n",
       "      <td>Tuolumne</td>\n",
       "      <td>29.36</td>\n",
       "      <td>41.22</td>\n",
       "      <td>23.47</td>\n",
       "      <td>5.95</td>\n",
       "      <td>10.9</td>\n",
       "      <td>2410</td>\n",
       "    </tr>\n",
       "    <tr>\n",
       "      <th>23</th>\n",
       "      <td>San Benito</td>\n",
       "      <td>45.39</td>\n",
       "      <td>25.90</td>\n",
       "      <td>24.44</td>\n",
       "      <td>4.26</td>\n",
       "      <td>10.8</td>\n",
       "      <td>1870</td>\n",
       "    </tr>\n",
       "    <tr>\n",
       "      <th>24</th>\n",
       "      <td>Riverside</td>\n",
       "      <td>37.18</td>\n",
       "      <td>32.91</td>\n",
       "      <td>24.65</td>\n",
       "      <td>5.26</td>\n",
       "      <td>10.7</td>\n",
       "      <td>75500</td>\n",
       "    </tr>\n",
       "    <tr>\n",
       "      <th>25</th>\n",
       "      <td>Shasta</td>\n",
       "      <td>23.23</td>\n",
       "      <td>46.01</td>\n",
       "      <td>24.63</td>\n",
       "      <td>6.13</td>\n",
       "      <td>10.0</td>\n",
       "      <td>6951</td>\n",
       "    </tr>\n",
       "    <tr>\n",
       "      <th>26</th>\n",
       "      <td>Lassen</td>\n",
       "      <td>19.98</td>\n",
       "      <td>48.55</td>\n",
       "      <td>23.84</td>\n",
       "      <td>7.63</td>\n",
       "      <td>9.9</td>\n",
       "      <td>942</td>\n",
       "    </tr>\n",
       "    <tr>\n",
       "      <th>27</th>\n",
       "      <td>Amador</td>\n",
       "      <td>28.80</td>\n",
       "      <td>43.99</td>\n",
       "      <td>20.68</td>\n",
       "      <td>6.53</td>\n",
       "      <td>9.5</td>\n",
       "      <td>1358</td>\n",
       "    </tr>\n",
       "    <tr>\n",
       "      <th>28</th>\n",
       "      <td>Solano</td>\n",
       "      <td>45.64</td>\n",
       "      <td>21.63</td>\n",
       "      <td>27.40</td>\n",
       "      <td>5.34</td>\n",
       "      <td>9.5</td>\n",
       "      <td>13800</td>\n",
       "    </tr>\n",
       "    <tr>\n",
       "      <th>29</th>\n",
       "      <td>Calaveras</td>\n",
       "      <td>27.37</td>\n",
       "      <td>41.45</td>\n",
       "      <td>23.09</td>\n",
       "      <td>8.10</td>\n",
       "      <td>9.3</td>\n",
       "      <td>1651</td>\n",
       "    </tr>\n",
       "    <tr>\n",
       "      <th>30</th>\n",
       "      <td>Los Angeles</td>\n",
       "      <td>50.08</td>\n",
       "      <td>17.04</td>\n",
       "      <td>28.05</td>\n",
       "      <td>4.83</td>\n",
       "      <td>9.0</td>\n",
       "      <td>296000</td>\n",
       "    </tr>\n",
       "    <tr>\n",
       "      <th>31</th>\n",
       "      <td>Yolo</td>\n",
       "      <td>47.27</td>\n",
       "      <td>19.55</td>\n",
       "      <td>27.68</td>\n",
       "      <td>5.50</td>\n",
       "      <td>8.5</td>\n",
       "      <td>6189</td>\n",
       "    </tr>\n",
       "    <tr>\n",
       "      <th>32</th>\n",
       "      <td>Santa Cruz</td>\n",
       "      <td>54.59</td>\n",
       "      <td>14.01</td>\n",
       "      <td>26.30</td>\n",
       "      <td>5.10</td>\n",
       "      <td>7.9</td>\n",
       "      <td>7473</td>\n",
       "    </tr>\n",
       "    <tr>\n",
       "      <th>33</th>\n",
       "      <td>Santa Barbara</td>\n",
       "      <td>42.35</td>\n",
       "      <td>25.67</td>\n",
       "      <td>26.94</td>\n",
       "      <td>5.05</td>\n",
       "      <td>7.3</td>\n",
       "      <td>10500</td>\n",
       "    </tr>\n",
       "    <tr>\n",
       "      <th>34</th>\n",
       "      <td>Alameda</td>\n",
       "      <td>55.67</td>\n",
       "      <td>11.05</td>\n",
       "      <td>29.16</td>\n",
       "      <td>4.11</td>\n",
       "      <td>7.2</td>\n",
       "      <td>40800</td>\n",
       "    </tr>\n",
       "    <tr>\n",
       "      <th>35</th>\n",
       "      <td>Sonoma</td>\n",
       "      <td>51.92</td>\n",
       "      <td>18.14</td>\n",
       "      <td>24.65</td>\n",
       "      <td>5.31</td>\n",
       "      <td>7.1</td>\n",
       "      <td>13400</td>\n",
       "    </tr>\n",
       "    <tr>\n",
       "      <th>36</th>\n",
       "      <td>Monterey</td>\n",
       "      <td>49.23</td>\n",
       "      <td>20.54</td>\n",
       "      <td>25.93</td>\n",
       "      <td>4.31</td>\n",
       "      <td>7.1</td>\n",
       "      <td>8909</td>\n",
       "    </tr>\n",
       "    <tr>\n",
       "      <th>37</th>\n",
       "      <td>Ventura</td>\n",
       "      <td>39.80</td>\n",
       "      <td>29.64</td>\n",
       "      <td>25.18</td>\n",
       "      <td>5.37</td>\n",
       "      <td>7.1</td>\n",
       "      <td>19000</td>\n",
       "    </tr>\n",
       "    <tr>\n",
       "      <th>38</th>\n",
       "      <td>San Diego</td>\n",
       "      <td>35.98</td>\n",
       "      <td>27.70</td>\n",
       "      <td>30.81</td>\n",
       "      <td>5.51</td>\n",
       "      <td>7.0</td>\n",
       "      <td>77400</td>\n",
       "    </tr>\n",
       "    <tr>\n",
       "      <th>39</th>\n",
       "      <td>Nevada</td>\n",
       "      <td>36.17</td>\n",
       "      <td>33.00</td>\n",
       "      <td>9.58</td>\n",
       "      <td>21.25</td>\n",
       "      <td>6.6</td>\n",
       "      <td>2685</td>\n",
       "    </tr>\n",
       "    <tr>\n",
       "      <th>40</th>\n",
       "      <td>Contra Costa</td>\n",
       "      <td>48.86</td>\n",
       "      <td>19.87</td>\n",
       "      <td>26.93</td>\n",
       "      <td>4.32</td>\n",
       "      <td>6.5</td>\n",
       "      <td>25200</td>\n",
       "    </tr>\n",
       "    <tr>\n",
       "      <th>41</th>\n",
       "      <td>Orange</td>\n",
       "      <td>33.56</td>\n",
       "      <td>34.72</td>\n",
       "      <td>27.54</td>\n",
       "      <td>4.17</td>\n",
       "      <td>6.4</td>\n",
       "      <td>65200</td>\n",
       "    </tr>\n",
       "    <tr>\n",
       "      <th>42</th>\n",
       "      <td>El Dorado</td>\n",
       "      <td>28.75</td>\n",
       "      <td>40.24</td>\n",
       "      <td>23.99</td>\n",
       "      <td>7.03</td>\n",
       "      <td>6.4</td>\n",
       "      <td>4299</td>\n",
       "    </tr>\n",
       "    <tr>\n",
       "      <th>43</th>\n",
       "      <td>San Luis Obispo</td>\n",
       "      <td>34.50</td>\n",
       "      <td>34.84</td>\n",
       "      <td>24.51</td>\n",
       "      <td>6.15</td>\n",
       "      <td>5.7</td>\n",
       "      <td>5976</td>\n",
       "    </tr>\n",
       "    <tr>\n",
       "      <th>44</th>\n",
       "      <td>San Francisco</td>\n",
       "      <td>56.84</td>\n",
       "      <td>6.63</td>\n",
       "      <td>32.65</td>\n",
       "      <td>3.87</td>\n",
       "      <td>5.2</td>\n",
       "      <td>18400</td>\n",
       "    </tr>\n",
       "    <tr>\n",
       "      <th>45</th>\n",
       "      <td>Santa Clara</td>\n",
       "      <td>45.56</td>\n",
       "      <td>17.26</td>\n",
       "      <td>33.67</td>\n",
       "      <td>3.51</td>\n",
       "      <td>5.1</td>\n",
       "      <td>32100</td>\n",
       "    </tr>\n",
       "    <tr>\n",
       "      <th>46</th>\n",
       "      <td>Placer</td>\n",
       "      <td>28.25</td>\n",
       "      <td>41.71</td>\n",
       "      <td>24.21</td>\n",
       "      <td>5.85</td>\n",
       "      <td>4.6</td>\n",
       "      <td>6319</td>\n",
       "    </tr>\n",
       "    <tr>\n",
       "      <th>47</th>\n",
       "      <td>Napa</td>\n",
       "      <td>45.51</td>\n",
       "      <td>22.10</td>\n",
       "      <td>26.82</td>\n",
       "      <td>5.57</td>\n",
       "      <td>4.6</td>\n",
       "      <td>2262</td>\n",
       "    </tr>\n",
       "    <tr>\n",
       "      <th>48</th>\n",
       "      <td>San Mateo</td>\n",
       "      <td>50.31</td>\n",
       "      <td>15.22</td>\n",
       "      <td>30.69</td>\n",
       "      <td>3.78</td>\n",
       "      <td>3.7</td>\n",
       "      <td>9699</td>\n",
       "    </tr>\n",
       "    <tr>\n",
       "      <th>49</th>\n",
       "      <td>Marin</td>\n",
       "      <td>55.56</td>\n",
       "      <td>14.82</td>\n",
       "      <td>25.34</td>\n",
       "      <td>4.29</td>\n",
       "      <td>3.3</td>\n",
       "      <td>3493</td>\n",
       "    </tr>\n",
       "  </tbody>\n",
       "</table>\n",
       "</div>"
      ],
      "text/plain": [
       "             County  Democratic  Republican  No Preference  Third Party  \\\n",
       "0            Tulare       31.10       39.19          24.73         4.99   \n",
       "1            Merced       43.26       27.39          24.85         4.50   \n",
       "2          Imperial       47.53       18.39          29.43         4.65   \n",
       "3            Fresno       37.85       33.23          23.84         5.06   \n",
       "4            Madera       31.57       38.51          24.67         5.24   \n",
       "5             Kings       32.36       40.78          22.17         4.67   \n",
       "6              Kern       33.54       35.28          25.85         5.34   \n",
       "7              Yuba       26.82       36.18          29.13         7.86   \n",
       "8    San Bernardino       38.98       29.43          25.88         5.71   \n",
       "9        Stanislaus       37.29       34.86          22.25         5.61   \n",
       "10           Tehama       25.24       42.69          25.27         6.81   \n",
       "11      San Joaquin       41.62       29.13          24.60         4.65   \n",
       "12        Del Norte       30.49       35.60          26.25         7.67   \n",
       "13         Siskiyou       30.02       37.86          24.41         7.71   \n",
       "14        Mendocino       47.24       19.77          24.94         8.05   \n",
       "15       Sacramento       42.43       25.79          26.32         5.45   \n",
       "16             Lake       37.83       26.67          28.77         6.72   \n",
       "17            Butte       34.91       34.18          24.02         6.90   \n",
       "18            Glenn       28.06       42.31          24.04         5.59   \n",
       "19           Sutter       29.79       39.03          24.71         6.46   \n",
       "20         Humboldt       43.85       22.77          25.79         7.58   \n",
       "21           Colusa       31.20       39.40          25.17         4.24   \n",
       "22         Tuolumne       29.36       41.22          23.47         5.95   \n",
       "23       San Benito       45.39       25.90          24.44         4.26   \n",
       "24        Riverside       37.18       32.91          24.65         5.26   \n",
       "25           Shasta       23.23       46.01          24.63         6.13   \n",
       "26           Lassen       19.98       48.55          23.84         7.63   \n",
       "27           Amador       28.80       43.99          20.68         6.53   \n",
       "28           Solano       45.64       21.63          27.40         5.34   \n",
       "29        Calaveras       27.37       41.45          23.09         8.10   \n",
       "30      Los Angeles       50.08       17.04          28.05         4.83   \n",
       "31             Yolo       47.27       19.55          27.68         5.50   \n",
       "32       Santa Cruz       54.59       14.01          26.30         5.10   \n",
       "33    Santa Barbara       42.35       25.67          26.94         5.05   \n",
       "34          Alameda       55.67       11.05          29.16         4.11   \n",
       "35           Sonoma       51.92       18.14          24.65         5.31   \n",
       "36         Monterey       49.23       20.54          25.93         4.31   \n",
       "37          Ventura       39.80       29.64          25.18         5.37   \n",
       "38        San Diego       35.98       27.70          30.81         5.51   \n",
       "39           Nevada       36.17       33.00           9.58        21.25   \n",
       "40     Contra Costa       48.86       19.87          26.93         4.32   \n",
       "41           Orange       33.56       34.72          27.54         4.17   \n",
       "42        El Dorado       28.75       40.24          23.99         7.03   \n",
       "43  San Luis Obispo       34.50       34.84          24.51         6.15   \n",
       "44    San Francisco       56.84        6.63          32.65         3.87   \n",
       "45      Santa Clara       45.56       17.26          33.67         3.51   \n",
       "46           Placer       28.25       41.71          24.21         5.85   \n",
       "47             Napa       45.51       22.10          26.82         5.57   \n",
       "48        San Mateo       50.31       15.22          30.69         3.78   \n",
       "49            Marin       55.56       14.82          25.34         4.29   \n",
       "\n",
       "    PercentCFHH  TotalCFHH  \n",
       "0          23.4      31400  \n",
       "1          21.0      16500  \n",
       "2          20.9       9568  \n",
       "3          20.7      62100  \n",
       "4          17.5       7637  \n",
       "5          17.0       7125  \n",
       "6          17.0      44600  \n",
       "7          16.4       4207  \n",
       "8          15.9      98600  \n",
       "9          15.8      26900  \n",
       "10         14.8       3491  \n",
       "11         14.4      32000  \n",
       "12         14.4       1359  \n",
       "13         13.3       2525  \n",
       "14         12.7       4401  \n",
       "15         12.3      65099  \n",
       "16         12.3       3223  \n",
       "17         11.8      10100  \n",
       "18         11.8       1157  \n",
       "19         11.7       3762  \n",
       "20         11.7       6296  \n",
       "21         11.4        793  \n",
       "22         10.9       2410  \n",
       "23         10.8       1870  \n",
       "24         10.7      75500  \n",
       "25         10.0       6951  \n",
       "26          9.9        942  \n",
       "27          9.5       1358  \n",
       "28          9.5      13800  \n",
       "29          9.3       1651  \n",
       "30          9.0     296000  \n",
       "31          8.5       6189  \n",
       "32          7.9       7473  \n",
       "33          7.3      10500  \n",
       "34          7.2      40800  \n",
       "35          7.1      13400  \n",
       "36          7.1       8909  \n",
       "37          7.1      19000  \n",
       "38          7.0      77400  \n",
       "39          6.6       2685  \n",
       "40          6.5      25200  \n",
       "41          6.4      65200  \n",
       "42          6.4       4299  \n",
       "43          5.7       5976  \n",
       "44          5.2      18400  \n",
       "45          5.1      32100  \n",
       "46          4.6       6319  \n",
       "47          4.6       2262  \n",
       "48          3.7       9699  \n",
       "49          3.3       3493  "
      ]
     },
     "execution_count": 11,
     "metadata": {},
     "output_type": "execute_result"
    }
   ],
   "source": [
    "# Use this df for final from this point on\n",
    "df = finalDFStandardized\n",
    "\n",
    "df = df.rename(columns={\"Percentage of CalFresh Households\": \"PercentCFHH\"})\n",
    "df = df.rename(columns={\"Total CalFresh HouseHolds\": \"TotalCFHH\"})\n",
    "\n",
    "df"
   ]
  },
  {
   "cell_type": "markdown",
   "metadata": {},
   "source": [
    "# Data Analysis & Results"
   ]
  },
  {
   "cell_type": "markdown",
   "metadata": {},
   "source": [
    "Include cells that describe the steps in your data analysis."
   ]
  },
  {
   "cell_type": "code",
   "execution_count": 12,
   "metadata": {},
   "outputs": [
    {
     "data": {
      "text/plain": [
       "<matplotlib.legend.Legend at 0x122885d60>"
      ]
     },
     "execution_count": 12,
     "metadata": {},
     "output_type": "execute_result"
    },
    {
     "data": {
      "image/png": "[encoded data removed]",
      "text/plain": [
       "<Figure size 1224x504 with 1 Axes>"
      ]
     },
     "metadata": {
      "needs_background": "light"
     },
     "output_type": "display_data"
    }
   ],
   "source": [
    "# Plot party preference of each California county\n",
    "temp = pd.DataFrame({'x': df['County'], 'y1': df['Democratic'], 'y2': df['Republican'], 'y3': df['No Preference'], 'y4': df['Third Party']})\n",
    "plt.rcParams['figure.figsize'] = (17, 7)\n",
    "\n",
    "plt.plot( 'x', 'y1', data=temp, marker='o', markerfacecolor='blue', markersize=12, color='skyblue', linewidth=2, label=\"Democratic\")\n",
    "plt.plot( 'x', 'y2', data=temp, marker='o', markerfacecolor='red', markersize=12, color='pink', linewidth=2, label=\"Republican\")\n",
    "plt.plot( 'x', 'y3', data=temp, marker='', color='olive', linewidth=2, label=\"No Preference\")\n",
    "plt.plot( 'x', 'y4', data=temp, marker='', color='olive', linewidth=2, linestyle='dashed', label=\"Third Party\")\n",
    "\n",
    "plt.xlabel(\"County\")\n",
    "plt.ylabel('Percent Party')\n",
    "plt.xticks(rotation = 90)\n",
    "plt.legend()"
   ]
  },
  {
   "cell_type": "markdown",
   "metadata": {},
   "source": [
    "The line plot graphs the percentage of the party preference in each county. We can see that the Democratic party or the Republican party are usually the dominant party."
   ]
  },
  {
   "cell_type": "code",
   "execution_count": 13,
   "metadata": {},
   "outputs": [
    {
     "data": {
      "image/png": "[encoded data removed]",
      "text/plain": [
       "<Figure size 1224x504 with 1 Axes>"
      ]
     },
     "metadata": {
      "needs_background": "light"
     },
     "output_type": "display_data"
    }
   ],
   "source": [
    "#Barplot of party perference per county\n",
    "fig, ax = plt.subplots()\n",
    "ax.bar(df['County'], df['Third Party'], label='Third Party', color='olive')\n",
    "ax.bar(df['County'], df['No Preference'], label='No Preference', bottom=np.array(df['Third Party']), color = 'grey')\n",
    "ax.bar(df['County'], df['Republican'], label='Republican', bottom=np.array(df['Third Party'])+np.array(df['No Preference']), color='#FF9999')\n",
    "ax.bar(df['County'], df['Democratic'], label='Democratic', bottom=np.array(df['Third Party'])+np.array(df['No Preference'])+np.array(df['Republican']), color = '#00BFFF')\n",
    "\n",
    "plt.xlabel(\"County\")\n",
    "plt.xticks(rotation = 90)\n",
    "plt.legend()\n",
    "plt.show()"
   ]
  },
  {
   "cell_type": "markdown",
   "metadata": {},
   "source": [
    "From the barplot, we see that the stacked parties of each county adds up to 100, which would account for all voters in that county. This also better represents the party preference within the county."
   ]
  },
  {
   "cell_type": "code",
   "execution_count": 14,
   "metadata": {},
   "outputs": [
    {
     "data": {
      "text/html": [
       "<div>\n",
       "<style scoped>\n",
       "    .dataframe tbody tr th:only-of-type {\n",
       "        vertical-align: middle;\n",
       "    }\n",
       "\n",
       "    .dataframe tbody tr th {\n",
       "        vertical-align: top;\n",
       "    }\n",
       "\n",
       "    .dataframe thead th {\n",
       "        text-align: right;\n",
       "    }\n",
       "</style>\n",
       "<table border=\"1\" class=\"dataframe\">\n",
       "  <thead>\n",
       "    <tr style=\"text-align: right;\">\n",
       "      <th></th>\n",
       "      <th>County</th>\n",
       "      <th>Democratic</th>\n",
       "      <th>Republican</th>\n",
       "      <th>No Preference</th>\n",
       "      <th>Third Party</th>\n",
       "      <th>PercentCFHH</th>\n",
       "      <th>TotalCFHH</th>\n",
       "      <th>DominantParty</th>\n",
       "    </tr>\n",
       "  </thead>\n",
       "  <tbody>\n",
       "    <tr>\n",
       "      <th>0</th>\n",
       "      <td>Tulare</td>\n",
       "      <td>31.10</td>\n",
       "      <td>39.19</td>\n",
       "      <td>24.73</td>\n",
       "      <td>4.99</td>\n",
       "      <td>23.4</td>\n",
       "      <td>31400</td>\n",
       "      <td>R</td>\n",
       "    </tr>\n",
       "    <tr>\n",
       "      <th>1</th>\n",
       "      <td>Merced</td>\n",
       "      <td>43.26</td>\n",
       "      <td>27.39</td>\n",
       "      <td>24.85</td>\n",
       "      <td>4.50</td>\n",
       "      <td>21.0</td>\n",
       "      <td>16500</td>\n",
       "      <td>D</td>\n",
       "    </tr>\n",
       "    <tr>\n",
       "      <th>2</th>\n",
       "      <td>Imperial</td>\n",
       "      <td>47.53</td>\n",
       "      <td>18.39</td>\n",
       "      <td>29.43</td>\n",
       "      <td>4.65</td>\n",
       "      <td>20.9</td>\n",
       "      <td>9568</td>\n",
       "      <td>D</td>\n",
       "    </tr>\n",
       "    <tr>\n",
       "      <th>3</th>\n",
       "      <td>Fresno</td>\n",
       "      <td>37.85</td>\n",
       "      <td>33.23</td>\n",
       "      <td>23.84</td>\n",
       "      <td>5.06</td>\n",
       "      <td>20.7</td>\n",
       "      <td>62100</td>\n",
       "      <td>D</td>\n",
       "    </tr>\n",
       "    <tr>\n",
       "      <th>4</th>\n",
       "      <td>Madera</td>\n",
       "      <td>31.57</td>\n",
       "      <td>38.51</td>\n",
       "      <td>24.67</td>\n",
       "      <td>5.24</td>\n",
       "      <td>17.5</td>\n",
       "      <td>7637</td>\n",
       "      <td>R</td>\n",
       "    </tr>\n",
       "  </tbody>\n",
       "</table>\n",
       "</div>"
      ],
      "text/plain": [
       "     County  Democratic  Republican  No Preference  Third Party  PercentCFHH  \\\n",
       "0    Tulare       31.10       39.19          24.73         4.99         23.4   \n",
       "1    Merced       43.26       27.39          24.85         4.50         21.0   \n",
       "2  Imperial       47.53       18.39          29.43         4.65         20.9   \n",
       "3    Fresno       37.85       33.23          23.84         5.06         20.7   \n",
       "4    Madera       31.57       38.51          24.67         5.24         17.5   \n",
       "\n",
       "   TotalCFHH DominantParty  \n",
       "0      31400             R  \n",
       "1      16500             D  \n",
       "2       9568             D  \n",
       "3      62100             D  \n",
       "4       7637             R  "
      ]
     },
     "execution_count": 14,
     "metadata": {},
     "output_type": "execute_result"
    }
   ],
   "source": [
    "#Determine dominant political party per county and return in new column 'DominantParty'\n",
    "dominant_party = finalDFStandardized['Democratic'] > finalDFStandardized['Republican']\n",
    "\n",
    "df[\"DominantParty\"] = dominant_party\n",
    "\n",
    "df = df.replace([False, True], ['R', 'D'])\n",
    "df.head()"
   ]
  },
  {
   "cell_type": "code",
   "execution_count": 15,
   "metadata": {},
   "outputs": [
    {
     "data": {
      "text/plain": [
       "<AxesSubplot:xlabel='DominantParty', ylabel='count'>"
      ]
     },
     "execution_count": 15,
     "metadata": {},
     "output_type": "execute_result"
    },
    {
     "data": {
      "image/png": "[encoded data removed]",
      "text/plain": [
       "<Figure size 1224x504 with 1 Axes>"
      ]
     },
     "metadata": {
      "needs_background": "light"
     },
     "output_type": "display_data"
    }
   ],
   "source": [
    "sns.countplot(df['DominantParty'])"
   ]
  },
  {
   "cell_type": "markdown",
   "metadata": {},
   "source": [
    "There are more Democratic counties in California than Republican counties."
   ]
  },
  {
   "cell_type": "code",
   "execution_count": 18,
   "metadata": {},
   "outputs": [
    {
     "data": {
      "text/html": [
       "<div>\n",
       "<style scoped>\n",
       "    .dataframe tbody tr th:only-of-type {\n",
       "        vertical-align: middle;\n",
       "    }\n",
       "\n",
       "    .dataframe tbody tr th {\n",
       "        vertical-align: top;\n",
       "    }\n",
       "\n",
       "    .dataframe thead th {\n",
       "        text-align: right;\n",
       "    }\n",
       "</style>\n",
       "<table border=\"1\" class=\"dataframe\">\n",
       "  <thead>\n",
       "    <tr style=\"text-align: right;\">\n",
       "      <th></th>\n",
       "      <th>County</th>\n",
       "      <th>Democratic</th>\n",
       "      <th>Republican</th>\n",
       "      <th>No Preference</th>\n",
       "      <th>Third Party</th>\n",
       "      <th>PercentCFHH</th>\n",
       "      <th>TotalCFHH</th>\n",
       "      <th>DominantParty</th>\n",
       "    </tr>\n",
       "  </thead>\n",
       "  <tbody>\n",
       "    <tr>\n",
       "      <th>0</th>\n",
       "      <td>Tulare</td>\n",
       "      <td>31.1</td>\n",
       "      <td>39.19</td>\n",
       "      <td>24.73</td>\n",
       "      <td>4.99</td>\n",
       "      <td>23.4</td>\n",
       "      <td>31400</td>\n",
       "      <td>R</td>\n",
       "    </tr>\n",
       "  </tbody>\n",
       "</table>\n",
       "</div>"
      ],
      "text/plain": [
       "   County  Democratic  Republican  No Preference  Third Party  PercentCFHH  \\\n",
       "0  Tulare        31.1       39.19          24.73         4.99         23.4   \n",
       "\n",
       "   TotalCFHH DominantParty  \n",
       "0      31400             R  "
      ]
     },
     "execution_count": 18,
     "metadata": {},
     "output_type": "execute_result"
    }
   ],
   "source": [
    "# County with the highest percentage of CF applications\n",
    "df[df[\"PercentCFHH\"] == df[\"PercentCFHH\"].max()]"
   ]
  },
  {
   "cell_type": "code",
   "execution_count": 19,
   "metadata": {},
   "outputs": [
    {
     "data": {
      "text/html": [
       "<div>\n",
       "<style scoped>\n",
       "    .dataframe tbody tr th:only-of-type {\n",
       "        vertical-align: middle;\n",
       "    }\n",
       "\n",
       "    .dataframe tbody tr th {\n",
       "        vertical-align: top;\n",
       "    }\n",
       "\n",
       "    .dataframe thead th {\n",
       "        text-align: right;\n",
       "    }\n",
       "</style>\n",
       "<table border=\"1\" class=\"dataframe\">\n",
       "  <thead>\n",
       "    <tr style=\"text-align: right;\">\n",
       "      <th></th>\n",
       "      <th>County</th>\n",
       "      <th>Democratic</th>\n",
       "      <th>Republican</th>\n",
       "      <th>No Preference</th>\n",
       "      <th>Third Party</th>\n",
       "      <th>PercentCFHH</th>\n",
       "      <th>TotalCFHH</th>\n",
       "      <th>DominantParty</th>\n",
       "    </tr>\n",
       "  </thead>\n",
       "  <tbody>\n",
       "    <tr>\n",
       "      <th>49</th>\n",
       "      <td>Marin</td>\n",
       "      <td>55.56</td>\n",
       "      <td>14.82</td>\n",
       "      <td>25.34</td>\n",
       "      <td>4.29</td>\n",
       "      <td>3.3</td>\n",
       "      <td>3493</td>\n",
       "      <td>D</td>\n",
       "    </tr>\n",
       "  </tbody>\n",
       "</table>\n",
       "</div>"
      ],
      "text/plain": [
       "   County  Democratic  Republican  No Preference  Third Party  PercentCFHH  \\\n",
       "49  Marin       55.56       14.82          25.34         4.29          3.3   \n",
       "\n",
       "    TotalCFHH DominantParty  \n",
       "49       3493             D  "
      ]
     },
     "execution_count": 19,
     "metadata": {},
     "output_type": "execute_result"
    }
   ],
   "source": [
    "# County with the lowest percentage of CF applications\n",
    "df[df[\"PercentCFHH\"] == df[\"PercentCFHH\"].min()]"
   ]
  },
  {
   "cell_type": "markdown",
   "metadata": {},
   "source": [
    "The county with the highest percentage of CalFresh applications is Tulare, with 23.4% of households receiving CalFresh and the county with the least percentage of applications is Marin, with 3333.3% of households receiving CalFresh."
   ]
  },
  {
   "cell_type": "code",
   "execution_count": 20,
   "metadata": {},
   "outputs": [
    {
     "data": {
      "text/html": [
       "<div>\n",
       "<style scoped>\n",
       "    .dataframe tbody tr th:only-of-type {\n",
       "        vertical-align: middle;\n",
       "    }\n",
       "\n",
       "    .dataframe tbody tr th {\n",
       "        vertical-align: top;\n",
       "    }\n",
       "\n",
       "    .dataframe thead th {\n",
       "        text-align: right;\n",
       "    }\n",
       "</style>\n",
       "<table border=\"1\" class=\"dataframe\">\n",
       "  <thead>\n",
       "    <tr style=\"text-align: right;\">\n",
       "      <th></th>\n",
       "      <th>County</th>\n",
       "      <th>Democratic</th>\n",
       "      <th>Republican</th>\n",
       "      <th>No Preference</th>\n",
       "      <th>Third Party</th>\n",
       "      <th>PercentCFHH</th>\n",
       "      <th>TotalCFHH</th>\n",
       "      <th>DominantParty</th>\n",
       "    </tr>\n",
       "  </thead>\n",
       "  <tbody>\n",
       "    <tr>\n",
       "      <th>44</th>\n",
       "      <td>San Francisco</td>\n",
       "      <td>56.84</td>\n",
       "      <td>6.63</td>\n",
       "      <td>32.65</td>\n",
       "      <td>3.87</td>\n",
       "      <td>5.2</td>\n",
       "      <td>18400</td>\n",
       "      <td>D</td>\n",
       "    </tr>\n",
       "  </tbody>\n",
       "</table>\n",
       "</div>"
      ],
      "text/plain": [
       "           County  Democratic  Republican  No Preference  Third Party  \\\n",
       "44  San Francisco       56.84        6.63          32.65         3.87   \n",
       "\n",
       "    PercentCFHH  TotalCFHH DominantParty  \n",
       "44          5.2      18400             D  "
      ]
     },
     "execution_count": 20,
     "metadata": {},
     "output_type": "execute_result"
    }
   ],
   "source": [
    "# County with the highest percentage of Democratics\n",
    "df[df[\"Democratic\"] == df[\"Democratic\"].max()]"
   ]
  },
  {
   "cell_type": "code",
   "execution_count": 21,
   "metadata": {},
   "outputs": [
    {
     "data": {
      "text/html": [
       "<div>\n",
       "<style scoped>\n",
       "    .dataframe tbody tr th:only-of-type {\n",
       "        vertical-align: middle;\n",
       "    }\n",
       "\n",
       "    .dataframe tbody tr th {\n",
       "        vertical-align: top;\n",
       "    }\n",
       "\n",
       "    .dataframe thead th {\n",
       "        text-align: right;\n",
       "    }\n",
       "</style>\n",
       "<table border=\"1\" class=\"dataframe\">\n",
       "  <thead>\n",
       "    <tr style=\"text-align: right;\">\n",
       "      <th></th>\n",
       "      <th>County</th>\n",
       "      <th>Democratic</th>\n",
       "      <th>Republican</th>\n",
       "      <th>No Preference</th>\n",
       "      <th>Third Party</th>\n",
       "      <th>PercentCFHH</th>\n",
       "      <th>TotalCFHH</th>\n",
       "      <th>DominantParty</th>\n",
       "    </tr>\n",
       "  </thead>\n",
       "  <tbody>\n",
       "    <tr>\n",
       "      <th>26</th>\n",
       "      <td>Lassen</td>\n",
       "      <td>19.98</td>\n",
       "      <td>48.55</td>\n",
       "      <td>23.84</td>\n",
       "      <td>7.63</td>\n",
       "      <td>9.9</td>\n",
       "      <td>942</td>\n",
       "      <td>R</td>\n",
       "    </tr>\n",
       "  </tbody>\n",
       "</table>\n",
       "</div>"
      ],
      "text/plain": [
       "    County  Democratic  Republican  No Preference  Third Party  PercentCFHH  \\\n",
       "26  Lassen       19.98       48.55          23.84         7.63          9.9   \n",
       "\n",
       "    TotalCFHH DominantParty  \n",
       "26        942             R  "
      ]
     },
     "execution_count": 21,
     "metadata": {},
     "output_type": "execute_result"
    }
   ],
   "source": [
    "# County with the lowest percentage of Democratics\n",
    "df[df[\"Democratic\"] == df[\"Democratic\"].min()]"
   ]
  },
  {
   "cell_type": "code",
   "execution_count": 22,
   "metadata": {},
   "outputs": [
    {
     "data": {
      "text/html": [
       "<div>\n",
       "<style scoped>\n",
       "    .dataframe tbody tr th:only-of-type {\n",
       "        vertical-align: middle;\n",
       "    }\n",
       "\n",
       "    .dataframe tbody tr th {\n",
       "        vertical-align: top;\n",
       "    }\n",
       "\n",
       "    .dataframe thead th {\n",
       "        text-align: right;\n",
       "    }\n",
       "</style>\n",
       "<table border=\"1\" class=\"dataframe\">\n",
       "  <thead>\n",
       "    <tr style=\"text-align: right;\">\n",
       "      <th></th>\n",
       "      <th>County</th>\n",
       "      <th>Democratic</th>\n",
       "      <th>Republican</th>\n",
       "      <th>No Preference</th>\n",
       "      <th>Third Party</th>\n",
       "      <th>PercentCFHH</th>\n",
       "      <th>TotalCFHH</th>\n",
       "      <th>DominantParty</th>\n",
       "    </tr>\n",
       "  </thead>\n",
       "  <tbody>\n",
       "    <tr>\n",
       "      <th>26</th>\n",
       "      <td>Lassen</td>\n",
       "      <td>19.98</td>\n",
       "      <td>48.55</td>\n",
       "      <td>23.84</td>\n",
       "      <td>7.63</td>\n",
       "      <td>9.9</td>\n",
       "      <td>942</td>\n",
       "      <td>R</td>\n",
       "    </tr>\n",
       "  </tbody>\n",
       "</table>\n",
       "</div>"
      ],
      "text/plain": [
       "    County  Democratic  Republican  No Preference  Third Party  PercentCFHH  \\\n",
       "26  Lassen       19.98       48.55          23.84         7.63          9.9   \n",
       "\n",
       "    TotalCFHH DominantParty  \n",
       "26        942             R  "
      ]
     },
     "execution_count": 22,
     "metadata": {},
     "output_type": "execute_result"
    }
   ],
   "source": [
    "# County with the highest percentage of Republicans\n",
    "df[df[\"Republican\"] == df[\"Republican\"].max()]"
   ]
  },
  {
   "cell_type": "code",
   "execution_count": 23,
   "metadata": {},
   "outputs": [
    {
     "data": {
      "text/html": [
       "<div>\n",
       "<style scoped>\n",
       "    .dataframe tbody tr th:only-of-type {\n",
       "        vertical-align: middle;\n",
       "    }\n",
       "\n",
       "    .dataframe tbody tr th {\n",
       "        vertical-align: top;\n",
       "    }\n",
       "\n",
       "    .dataframe thead th {\n",
       "        text-align: right;\n",
       "    }\n",
       "</style>\n",
       "<table border=\"1\" class=\"dataframe\">\n",
       "  <thead>\n",
       "    <tr style=\"text-align: right;\">\n",
       "      <th></th>\n",
       "      <th>County</th>\n",
       "      <th>Democratic</th>\n",
       "      <th>Republican</th>\n",
       "      <th>No Preference</th>\n",
       "      <th>Third Party</th>\n",
       "      <th>PercentCFHH</th>\n",
       "      <th>TotalCFHH</th>\n",
       "      <th>DominantParty</th>\n",
       "    </tr>\n",
       "  </thead>\n",
       "  <tbody>\n",
       "    <tr>\n",
       "      <th>44</th>\n",
       "      <td>San Francisco</td>\n",
       "      <td>56.84</td>\n",
       "      <td>6.63</td>\n",
       "      <td>32.65</td>\n",
       "      <td>3.87</td>\n",
       "      <td>5.2</td>\n",
       "      <td>18400</td>\n",
       "      <td>D</td>\n",
       "    </tr>\n",
       "  </tbody>\n",
       "</table>\n",
       "</div>"
      ],
      "text/plain": [
       "           County  Democratic  Republican  No Preference  Third Party  \\\n",
       "44  San Francisco       56.84        6.63          32.65         3.87   \n",
       "\n",
       "    PercentCFHH  TotalCFHH DominantParty  \n",
       "44          5.2      18400             D  "
      ]
     },
     "execution_count": 23,
     "metadata": {},
     "output_type": "execute_result"
    }
   ],
   "source": [
    "# County with the lowest percentage of Republicans\n",
    "df[df[\"Republican\"] == df[\"Republican\"].min()]"
   ]
  },
  {
   "cell_type": "markdown",
   "metadata": {},
   "source": [
    "There is an inverse relationship between the percent of Democratics and Republicans in a county. The county with the highest percent of Democratics (San Francisco) has the least percent of Republicans. The county with the highest percent of Republicans (Lassen) has the least percent of Democratics."
   ]
  },
  {
   "cell_type": "markdown",
   "metadata": {},
   "source": [
    "### Graphs and Distributions"
   ]
  },
  {
   "cell_type": "code",
   "execution_count": 24,
   "metadata": {},
   "outputs": [
    {
     "data": {
      "text/plain": [
       "<AxesSubplot:>"
      ]
     },
     "execution_count": 24,
     "metadata": {},
     "output_type": "execute_result"
    },
    {
     "data": {
      "image/png": "[encoded data removed]",
      "text/plain": [
       "<Figure size 1224x504 with 1 Axes>"
      ]
     },
     "metadata": {
      "needs_background": "light"
     },
     "output_type": "display_data"
    }
   ],
   "source": [
    "df.boxplot(column=[\"PercentCFHH\"])"
   ]
  },
  {
   "cell_type": "markdown",
   "metadata": {},
   "source": [
    "This boxplot shows the range for the percentage of calfresh applicants per county."
   ]
  },
  {
   "cell_type": "code",
   "execution_count": 25,
   "metadata": {},
   "outputs": [
    {
     "data": {
      "text/plain": [
       "<AxesSubplot:title={'center':'PercentCFHH'}, xlabel='DominantParty'>"
      ]
     },
     "execution_count": 25,
     "metadata": {},
     "output_type": "execute_result"
    },
    {
     "data": {
      "image/png": "[encoded data removed]",
      "text/plain": [
       "<Figure size 1224x504 with 1 Axes>"
      ]
     },
     "metadata": {
      "needs_background": "light"
     },
     "output_type": "display_data"
    }
   ],
   "source": [
    "df.boxplot(column=[\"PercentCFHH\"], by=\"DominantParty\")"
   ]
  },
  {
   "cell_type": "markdown",
   "metadata": {},
   "source": [
    "The boxplots above show the range for calfresh applicants grouped by their dominant party. IT can be seen that democrat counites have two outliers."
   ]
  },
  {
   "cell_type": "code",
   "execution_count": 26,
   "metadata": {},
   "outputs": [
    {
     "data": {
      "text/plain": [
       "array([[<AxesSubplot:title={'center':'Democratic'}>,\n",
       "        <AxesSubplot:title={'center':'Republican'}>],\n",
       "       [<AxesSubplot:title={'center':'No Preference'}>,\n",
       "        <AxesSubplot:title={'center':'Third Party'}>],\n",
       "       [<AxesSubplot:title={'center':'PercentCFHH'}>,\n",
       "        <AxesSubplot:title={'center':'TotalCFHH'}>]], dtype=object)"
      ]
     },
     "execution_count": 26,
     "metadata": {},
     "output_type": "execute_result"
    },
    {
     "data": {
      "image/png": "[encoded data removed]",
      "text/plain": [
       "<Figure size 1224x504 with 6 Axes>"
      ]
     },
     "metadata": {
      "needs_background": "light"
     },
     "output_type": "display_data"
    }
   ],
   "source": [
    "df.hist(bins=10)"
   ]
  },
  {
   "cell_type": "markdown",
   "metadata": {},
   "source": [
    "The histograms above show a the rough distribution of our data. Each column in our data is represented on its own histogram with 10 bins."
   ]
  },
  {
   "cell_type": "code",
   "execution_count": 27,
   "metadata": {},
   "outputs": [
    {
     "data": {
      "text/plain": [
       "(array([3., 4., 8., 2., 4., 3., 1., 2., 0., 3.]),\n",
       " array([ 3.3 ,  5.07,  6.84,  8.61, 10.38, 12.15, 13.92, 15.69, 17.46,\n",
       "        19.23, 21.  ]),\n",
       " <BarContainer object of 10 artists>)"
      ]
     },
     "execution_count": 27,
     "metadata": {},
     "output_type": "execute_result"
    },
    {
     "data": {
      "image/png": "[encoded data removed]",
      "text/plain": [
       "<Figure size 1224x504 with 1 Axes>"
      ]
     },
     "metadata": {
      "needs_background": "light"
     },
     "output_type": "display_data"
    }
   ],
   "source": [
    "plt.hist(df.loc[df[\"DominantParty\"] == \"D\"][\"PercentCFHH\"], bins=10,)"
   ]
  },
  {
   "cell_type": "markdown",
   "metadata": {},
   "source": [
    "The histogram shows the percentage of CalFresh applicants on the x-axis and the y-shows the number of counties that fit within the range of that bin. Only for Democratic counties."
   ]
  },
  {
   "cell_type": "code",
   "execution_count": 28,
   "metadata": {},
   "outputs": [
    {
     "data": {
      "text/plain": [
       "(array([4., 0., 4., 4., 1., 2., 4., 0., 0., 1.]),\n",
       " array([ 4.6 ,  6.48,  8.36, 10.24, 12.12, 14.  , 15.88, 17.76, 19.64,\n",
       "        21.52, 23.4 ]),\n",
       " <BarContainer object of 10 artists>)"
      ]
     },
     "execution_count": 28,
     "metadata": {},
     "output_type": "execute_result"
    },
    {
     "data": {
      "image/png": "[encoded data removed]",
      "text/plain": [
       "<Figure size 1224x504 with 1 Axes>"
      ]
     },
     "metadata": {
      "needs_background": "light"
     },
     "output_type": "display_data"
    }
   ],
   "source": [
    "plt.hist(df.loc[df[\"DominantParty\"] == \"R\"][\"PercentCFHH\"], bins=10,)"
   ]
  },
  {
   "cell_type": "markdown",
   "metadata": {},
   "source": [
    "The histogram shows the percentage of CalFresh applicants on the x-axis and the y-shows the number of counties that fit within the range of that bin. Only for Republican counties"
   ]
  },
  {
   "cell_type": "markdown",
   "metadata": {},
   "source": [
    "### T-Test"
   ]
  },
  {
   "cell_type": "code",
   "execution_count": 29,
   "metadata": {},
   "outputs": [
    {
     "data": {
      "text/plain": [
       "Ttest_indResult(statistic=-1.3872386627219944, pvalue=0.17177685628117328)"
      ]
     },
     "execution_count": 29,
     "metadata": {},
     "output_type": "execute_result"
    }
   ],
   "source": [
    "ttest_ind(df.loc[df[\"DominantParty\"] == \"D\"][\"PercentCFHH\"], df.loc[df[\"DominantParty\"] == \"R\"][\"PercentCFHH\"])"
   ]
  },
  {
   "cell_type": "markdown",
   "metadata": {},
   "source": [
    "From our t-test, we get a t-statistic of -1.38 and a p-value of 0.177. Since we have a p-value of 0.177 which is higher than 0.1, we accept the null hypothesis and conclude that there isn’t a relationship between the percentage of Calfresh Households in Republican counties or Democratic counties."
   ]
  },
  {
   "cell_type": "markdown",
   "metadata": {},
   "source": [
    "### Linear Regression - Democrats"
   ]
  },
  {
   "cell_type": "code",
   "execution_count": 30,
   "metadata": {},
   "outputs": [
    {
     "data": {
      "text/plain": [
       "<AxesSubplot:xlabel='Democratic', ylabel='PercentCFHH'>"
      ]
     },
     "execution_count": 30,
     "metadata": {},
     "output_type": "execute_result"
    },
    {
     "data": {
      "image/png": "[encoded data removed]",
      "text/plain": [
       "<Figure size 1224x504 with 1 Axes>"
      ]
     },
     "metadata": {
      "needs_background": "light"
     },
     "output_type": "display_data"
    }
   ],
   "source": [
    "#Look at relation between Democratic and percentage CF\n",
    "df.plot.scatter(x=\"Democratic\", y=\"PercentCFHH\")"
   ]
  },
  {
   "cell_type": "markdown",
   "metadata": {},
   "source": [
    "It does not appear to have any outliers and it does not appear to be any clear correlation between the variables."
   ]
  },
  {
   "cell_type": "markdown",
   "metadata": {},
   "source": [
    "We want to see whether affiliation of a county in California, Democratic (predictor) affects the percentage of CalFresh household percentage (outcome):"
   ]
  },
  {
   "cell_type": "code",
   "execution_count": 31,
   "metadata": {},
   "outputs": [],
   "source": [
    "outcome_1, predictors_1 = patsy.dmatrices(\"PercentCFHH ~ Democratic\", data=df)\n",
    "mod_1 = sm.OLS(outcome_1, predictors_1)\n",
    "res_1 = mod_1.fit()"
   ]
  },
  {
   "cell_type": "code",
   "execution_count": 32,
   "metadata": {},
   "outputs": [
    {
     "name": "stdout",
     "output_type": "stream",
     "text": [
      "                            OLS Regression Results                            \n",
      "==============================================================================\n",
      "Dep. Variable:            PercentCFHH   R-squared:                       0.100\n",
      "Model:                            OLS   Adj. R-squared:                  0.082\n",
      "Method:                 Least Squares   F-statistic:                     5.358\n",
      "Date:                Fri, 12 Mar 2021   Prob (F-statistic):             0.0250\n",
      "Time:                        13:16:30   Log-Likelihood:                -147.33\n",
      "No. Observations:                  50   AIC:                             298.7\n",
      "Df Residuals:                      48   BIC:                             302.5\n",
      "Df Model:                           1                                         \n",
      "Covariance Type:            nonrobust                                         \n",
      "==============================================================================\n",
      "                 coef    std err          t      P>|t|      [0.025      0.975]\n",
      "------------------------------------------------------------------------------\n",
      "Intercept     17.2518      2.823      6.112      0.000      11.576      22.927\n",
      "Democratic    -0.1644      0.071     -2.315      0.025      -0.307      -0.022\n",
      "==============================================================================\n",
      "Omnibus:                        5.985   Durbin-Watson:                   0.167\n",
      "Prob(Omnibus):                  0.050   Jarque-Bera (JB):                5.311\n",
      "Skew:                           0.792   Prob(JB):                       0.0703\n",
      "Kurtosis:                       3.194   Cond. No.                         169.\n",
      "==============================================================================\n",
      "\n",
      "Notes:\n",
      "[1] Standard Errors assume that the covariance matrix of the errors is correctly specified.\n"
     ]
    }
   ],
   "source": [
    "print(res_1.summary())"
   ]
  },
  {
   "cell_type": "markdown",
   "metadata": {},
   "source": [
    "There is a weak negative correlation between the percent of Democratics and CalFresh applications. P value is pretty high suggesting that a relationship between the two variables could be due to chance. Our R-squared is 0.100, indicating that our independent variable (Democratic) explains only 10% of the data variation of our variable (PercentCalFreshHousehold applications).\n",
    "The effect size of the relationship between CalFresh household percentage and Democratic party is -0.1644 and the standard error is plus or minus 0.071\n",
    "<center>PercentCFHH = 17.2518 + (-0.1644) * Percentage of Democratic in the county</center>"
   ]
  },
  {
   "cell_type": "markdown",
   "metadata": {},
   "source": [
    "Interpretation: Whatever the percentage of Democratic party in a county is, we would expect that times (-0.1644) plus 17.2518 to be the estimate percentage of CalFresh household\n",
    "For every 1 unit increaase in Democratic, we expect to see a negative slope, -0.1644 unit decrease in the PercentCFHH"
   ]
  },
  {
   "cell_type": "code",
   "execution_count": 33,
   "metadata": {},
   "outputs": [
    {
     "data": {
      "image/png": "[encoded data removed]",
      "text/plain": [
       "<Figure size 1224x504 with 1 Axes>"
      ]
     },
     "metadata": {
      "needs_background": "light"
     },
     "output_type": "display_data"
    }
   ],
   "source": [
    "sns.scatterplot(x='Democratic', y='PercentCFHH', alpha=0.5, data=df, s=40)\n",
    "\n",
    "xs = np.arange(df['Democratic'].min(), df['Democratic'].max())\n",
    "ys = -0.1644 * xs + 17.2518\n",
    "plt.plot(xs, ys, '--k', linewidth=4, label='Model')\n",
    "\n",
    "plt.xlabel('Democratic')\n",
    "plt.ylabel('PercentCFHH')\n",
    "plt.legend();"
   ]
  },
  {
   "cell_type": "markdown",
   "metadata": {},
   "source": [
    "Since we have a negative effect size between the two variables, after generating and plotting the model fit line, it shows the trend of Democratic, which is going down according to the percentage of CalFresh households (y-axis).  "
   ]
  },
  {
   "cell_type": "markdown",
   "metadata": {},
   "source": [
    "### Linear Regression - Republicans"
   ]
  },
  {
   "cell_type": "code",
   "execution_count": 34,
   "metadata": {},
   "outputs": [
    {
     "data": {
      "text/plain": [
       "<AxesSubplot:xlabel='Republican', ylabel='PercentCFHH'>"
      ]
     },
     "execution_count": 34,
     "metadata": {},
     "output_type": "execute_result"
    },
    {
     "data": {
      "image/png": "[encoded data removed]",
      "text/plain": [
       "<Figure size 1224x504 with 1 Axes>"
      ]
     },
     "metadata": {
      "needs_background": "light"
     },
     "output_type": "display_data"
    }
   ],
   "source": [
    "### PercentCFHH ~ Republican\n",
    "df.plot.scatter(x=\"Republican\", y=\"PercentCFHH\")"
   ]
  },
  {
   "cell_type": "markdown",
   "metadata": {},
   "source": [
    "It does not appear to have any outliers and it does not appear to be any clear correlation between the variables.\n",
    "We want to see whether affiliation of a county in California, Reppublican (predictor) affects the percentage of CalFresh household percentage (outcome):"
   ]
  },
  {
   "cell_type": "code",
   "execution_count": 35,
   "metadata": {},
   "outputs": [
    {
     "name": "stdout",
     "output_type": "stream",
     "text": [
      "                            OLS Regression Results                            \n",
      "==============================================================================\n",
      "Dep. Variable:            PercentCFHH   R-squared:                       0.117\n",
      "Model:                            OLS   Adj. R-squared:                  0.099\n",
      "Method:                 Least Squares   F-statistic:                     6.390\n",
      "Date:                Fri, 12 Mar 2021   Prob (F-statistic):             0.0148\n",
      "Time:                        13:16:30   Log-Likelihood:                -146.85\n",
      "No. Observations:                  50   AIC:                             297.7\n",
      "Df Residuals:                      48   BIC:                             301.5\n",
      "Df Model:                           1                                         \n",
      "Covariance Type:            nonrobust                                         \n",
      "==============================================================================\n",
      "                 coef    std err          t      P>|t|      [0.025      0.975]\n",
      "------------------------------------------------------------------------------\n",
      "Intercept      6.0280      2.038      2.958      0.005       1.931      10.125\n",
      "Republican     0.1631      0.065      2.528      0.015       0.033       0.293\n",
      "==============================================================================\n",
      "Omnibus:                        5.732   Durbin-Watson:                   0.196\n",
      "Prob(Omnibus):                  0.057   Jarque-Bera (JB):                5.009\n",
      "Skew:                           0.768   Prob(JB):                       0.0817\n",
      "Kurtosis:                       3.208   Cond. No.                         97.8\n",
      "==============================================================================\n",
      "\n",
      "Notes:\n",
      "[1] Standard Errors assume that the covariance matrix of the errors is correctly specified.\n"
     ]
    }
   ],
   "source": [
    "outcome_2, predictors_2 = patsy.dmatrices(\"PercentCFHH ~ Republican\", data=df)\n",
    "mod_2 = sm.OLS(outcome_2, predictors_2)\n",
    "res_2 = mod_2.fit()\n",
    "\n",
    "print(res_2.summary())"
   ]
  },
  {
   "cell_type": "markdown",
   "metadata": {},
   "source": [
    "There is a weak positive correlation between the percentage of Republicans and Calfresh  applications. P value is pretty high suggesting that a relationship between the two variables could be due to chance. Our R-squared is 0.117, indicating that our independent variable (Republican) explains only 11.7% of the data variation of our variable (PercentCalFreshHousehold applications).\n",
    "The effect size of the relationship between CalFresh household percentage and Republican party is 0.1631 and the standard error is plus or minus 0.065\n",
    "<center>PercentCFHH = 6.0280 + 0.1631 * Percentage of Republican in the county</center>\n",
    "Interpretation: Whatever the percentage of Republican party in a county is, we would expect that times 0.1631 plus 6.0280 to be the estimate percentage of CalFresh household\n",
    "For every 1 unit increaase in Republican, we expect to see a positive slope, 0.1631 unit increase in the PercentCFHH"
   ]
  },
  {
   "cell_type": "code",
   "execution_count": 36,
   "metadata": {},
   "outputs": [
    {
     "data": {
      "image/png": "[encoded data removed]",
      "text/plain": [
       "<Figure size 1224x504 with 1 Axes>"
      ]
     },
     "metadata": {
      "needs_background": "light"
     },
     "output_type": "display_data"
    }
   ],
   "source": [
    "sns.scatterplot(x='Republican', y='PercentCFHH', alpha=0.5, data=df, s=50)\n",
    "\n",
    "xs = np.arange(df['Republican'].min(), df['Republican'].max())\n",
    "ys = 0.1631 * xs + 6.0280\n",
    "plt.plot(xs, ys, '--k', linewidth=4, label='Model')\n",
    "\n",
    "plt.xlabel('Republican')\n",
    "plt.ylabel('PercentCFHH')\n",
    "plt.legend();"
   ]
  },
  {
   "cell_type": "markdown",
   "metadata": {},
   "source": [
    "Since we have a negative effect size between the two variables, after generating and plotting the model fit line, it shows the trend of Republican, which is going up according to the percentage of CalFresh households (y-axis).  "
   ]
  },
  {
   "cell_type": "markdown",
   "metadata": {},
   "source": [
    "### Linear Regression - Dominant Party"
   ]
  },
  {
   "cell_type": "code",
   "execution_count": 37,
   "metadata": {},
   "outputs": [
    {
     "data": {
      "image/png": "[encoded data removed]",
      "text/plain": [
       "<Figure size 1224x504 with 1 Axes>"
      ]
     },
     "metadata": {
      "needs_background": "light"
     },
     "output_type": "display_data"
    }
   ],
   "source": [
    "### Before we can run a multivariable linear regression, we need to check for linearity\n",
    "sns.scatterplot(x='Democratic', y='Republican', data=df, s=100)\n",
    "plt.xlabel('Democratic')\n",
    "plt.ylabel('Republicaan');"
   ]
  },
  {
   "cell_type": "markdown",
   "metadata": {},
   "source": [
    "After plotting Democratic and Republican voters, we note hat there is a  negative linear relationship between the two variables"
   ]
  },
  {
   "cell_type": "code",
   "execution_count": 39,
   "metadata": {},
   "outputs": [
    {
     "name": "stdout",
     "output_type": "stream",
     "text": [
      "                            OLS Regression Results                            \n",
      "==============================================================================\n",
      "Dep. Variable:            PercentCFHH   R-squared:                       0.039\n",
      "Model:                            OLS   Adj. R-squared:                  0.019\n",
      "Method:                 Least Squares   F-statistic:                     1.924\n",
      "Date:                Fri, 12 Mar 2021   Prob (F-statistic):              0.172\n",
      "Time:                        13:38:43   Log-Likelihood:                -148.99\n",
      "No. Observations:                  50   AIC:                             302.0\n",
      "Df Residuals:                      48   BIC:                             305.8\n",
      "Df Model:                           1                                         \n",
      "Covariance Type:            nonrobust                                         \n",
      "======================================================================================\n",
      "                         coef    std err          t      P>|t|      [0.025      0.975]\n",
      "--------------------------------------------------------------------------------------\n",
      "Intercept             10.1233      0.888     11.407      0.000       8.339      11.908\n",
      "DominantParty[T.R]     1.9467      1.403      1.387      0.172      -0.875       4.768\n",
      "==============================================================================\n",
      "Omnibus:                        4.594   Durbin-Watson:                   0.089\n",
      "Prob(Omnibus):                  0.101   Jarque-Bera (JB):                4.192\n",
      "Skew:                           0.708   Prob(JB):                        0.123\n",
      "Kurtosis:                       2.930   Cond. No.                         2.45\n",
      "==============================================================================\n",
      "\n",
      "Notes:\n",
      "[1] Standard Errors assume that the covariance matrix of the errors is correctly specified.\n"
     ]
    }
   ],
   "source": [
    "# Since there was a linear relationship between Democratic and Republicans, we won't conduct a multivarible regression but we will instead do a regression analysis using our DominantParty column\n",
    "outcome_3, predictors_3 = patsy.dmatrices(\"PercentCFHH ~ DominantParty\", data=df)\n",
    "mod_3 = sm.OLS(outcome_3, predictors_3)\n",
    "res_3 = mod_3.fit()\n",
    "\n",
    "print(res_3.summary())"
   ]
  },
  {
   "cell_type": "markdown",
   "metadata": {},
   "source": [
    "There is a weak positive correlation between the dominant party and Calfresh  applications. P value is pretty high suggesting that a relationship between the two variables could be due to chance. Our R-squared is 0.039, indicating that our independent variable (DominantParty) explains only 3.9% of the data variation of our variable (PercentCalFreshHousehold).\n",
    "The effect size of the relationship between CalFresh household percentage and DominantParty is 1.9467 and the standard error is plus or minus 1.403\n",
    "<center>PercentCFHH = 10.1233 + 1.9467 * DominantParty in the county</center>"
   ]
  },
  {
   "cell_type": "markdown",
   "metadata": {},
   "source": [
    "# EDA\n",
    "- What distributions do your variables take?\n",
    "\t- When plotting Democratic voters to PercentageCalfreshHouseholds, we saw no significant relation between the variables. This matched the graph of Republican voters to PercentageCalfreshHouseholds where we also saw no relationship between the variables.\n",
    "\n",
    "\n",
    "- Are there any outliers?\n",
    "\t- The data as a whole does not have an outlier. But when separated by dominant party the set with democratic counties have an outlier, which can be attributed to LA. However, that outlier is not significant enough to remove from our dataset.\n",
    "\n",
    "\n",
    "- Relationship between variables:\n",
    "\t- In our linear regressions, our P-value is high. This signifies that political parties are unlikely to have a direct relationship with CalFresh applications. High P-values indicate that a relationship is due to chance.\n",
    "\n",
    "\n",
    "- Approaches\n",
    "\t- We started our first analysis using a t-test on the counties, split by either Democratic or Republican to see if there was a relationship with the percentage of Calfresh households. We found a high p-value so the relationship was due to chance. Our next step was to try an ols regression test using Democratic voters in a county as the predictor variable for PercentageOfCalfreshHousehold and then did a separate ols regression test using Republican voters in a county as the predictor variable for PercentageOfCalfreshHousehold. In both of these tests, our p-values for each variable were high so we could say that the variation was based on chance instead. We then attempted to do a multivariate analysis using Democratic and Republican voters as predictors for PercentageOfCalfreshHousehold. However, since we found a linear relationship between percentage of Democratic voters and Republican voters, we could not use a multivariate regression. We instead chose to do another single variable analysis but this time we classified a county as either Democrat or Republican based on whether or not that county was Democratic or Republican leaning. In this analysis, we also had a high p-value so we could not make any significant conclusions. \n",
    "\t\n",
    "- Results\n",
    "\t- Based on our data and analysis we came to the result that there was no significant relationship between the dominant political party of a county and the percentage of calfresh applicants for that specific county. While at first glance it may appear that democratic counties have a slightly lower percentage of CalFresh applicants, the difference was not statistically significant. \n",
    "\n",
    "- Interpretation of Findings\n",
    "\t- The findings were unexpected. We originally thought that political affiliation could affect the percentage of CalFresh households since a certain party favors CalFresh significantly more than the other. In general, the percentage of CalFresh households in a county doesn’t depend on which party the county is leaning on.\n"
   ]
  },
  {
   "cell_type": "markdown",
   "metadata": {},
   "source": [
    "# Ethics & Privacy"
   ]
  },
  {
   "cell_type": "markdown",
   "metadata": {},
   "source": [
    "Since the information we will use for our project is publicly available on government websites, we believe we have permission to use and analyze the information. Individual information is not provided in these data so individual privacy is protected. To our knowledge, the data is collected ethically.\n",
    "\n",
    "An unintended consequence from our project could be that some people may view our data and decide to not apply for CalFresh because they may think that their political affiliation will hurt their chances of receiving aid if their political affiliation is revealed. Another unintended consequence could be that political candidates may be negatively affected because voters could change their vote based on the result from our study regardless of how conclusive the results are.\n"
   ]
  },
  {
   "cell_type": "markdown",
   "metadata": {},
   "source": [
    "# Conclusion & Discussion"
   ]
  },
  {
   "cell_type": "markdown",
   "metadata": {},
   "source": [
    "- Limitation\n",
    "    - Our data is limited to 50 out of 58 counties in California. This is because the statistic atlas for the percentage of households receive food stamp in California by counties in 2018 excludes the 8 least populated counties.\n",
    "    - We also acknowledge that not every person in a county votes so that generalizing the political views of a county based on registered voters may not always reflect the political leanings of that county. Another limitation is that we do not know the political affiliation of those who did receive CalFresh applications. For example, we do not know whether person A who received CalFresh is a registered Democrat or Republican.\n",
    "\n",
    "- Discussion & Description\n",
    "\t- In this project, we analyzed whether political affiliation can affect the percentage of CalFresh households. We received our data from government websites for the political preference of each voter and for the percentage of CalFresh households in 50 counties.\n",
    "\n",
    "\n",
    "In conclusion, political affiliation does not affect the percentage of CalFresh recipients in a county. From our linear regression model and t-test, we can see that the relationship between the parties and the percentage of CalFresh households are due to chance. This means that a certain political party may not have a significant impact on the number of CalFresh households.\n",
    "Our conclusion goes against our initial hypothesis that Democratic counties would have a higher percentage of Calfresh households since Democratic voters tend to support progressive policies for the general welfare of the public. \n"
   ]
  },
  {
   "cell_type": "markdown",
   "metadata": {},
   "source": [
    "# Team Contributions"
   ]
  },
  {
   "cell_type": "markdown",
   "metadata": {},
   "source": [
    "Maxwell: Prepared dataset for political affiliation of voters in county, t-test analysis, finalwriteup + video script\n",
    "\n",
    "Alyssa: Merged datasets, stacked barplot, distplots, linear regression, finalwriteup + video script\n",
    "\n",
    "Anh: Standardized dataset, linear regression, finalwriteup + video script\n",
    "\n",
    "Efrain: Prepared dataset for percentage of Calfresh households, histogram and boxplots, finalwriteup + video script"
   ]
  }
 ],
 "metadata": {
  "kernelspec": {
   "display_name": "Python 3",
   "language": "python",
   "name": "python3"
  },
  "language_info": {
   "codemirror_mode": {
    "name": "ipython",
    "version": 3
   },
   "file_extension": ".py",
   "mimetype": "text/x-python",
   "name": "python",
   "nbconvert_exporter": "python",
   "pygments_lexer": "ipython3",
   "version": "3.8.5"
  }
 },
 "nbformat": 4,
 "nbformat_minor": 4
}
