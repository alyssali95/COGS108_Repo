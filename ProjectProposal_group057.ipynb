{
 "cells": [
  {
   "cell_type": "markdown",
   "metadata": {},
   "source": [
    "# COGS 108 - Final Project Proposal"
   ]
  },
  {
   "cell_type": "markdown",
   "metadata": {},
   "source": [
    "# Names\n",
    "\n",
    "- Alyssa Li\n",
    "- Efrain Contreras\n",
    "- Maxwell Wong\n",
    "- Duy Anh Nguyen"
   ]
  },
  {
   "cell_type": "markdown",
   "metadata": {},
   "source": [
    "# Research Question"
   ]
  },
  {
   "cell_type": "markdown",
   "metadata": {},
   "source": [
    "Does population density predict the number of CalFresh applications in a county? Does political affiliation affect CALfresh applications?"
   ]
  },
  {
   "cell_type": "markdown",
   "metadata": {},
   "source": [
    "## Background and Prior Work"
   ]
  },
  {
   "cell_type": "markdown",
   "metadata": {},
   "source": [
    "Calfresh is a benefit program for low-income families who meet certain federal income eligibility requirements. It was established in 1977 and is well-known as Food Stamps and administered by the California Department of Social Service (CDSS). This program helps people have healthy and nutritious meals within their budget. Each CalFresh certification has a period of 12-month and people need to re-apply after the period. Below are some eligibilities to apply for CalFresh:\n",
    "People who want to apply for Calfresh needs to have lived in the country for five years under a qualified status\n",
    "Families that only have elderly and/or disabled members and no earned incomes are certified for 36 months\n",
    "Children under 18 years old who are legally admitted for permanent residence under the Immigration and Naturalization Act\n",
    "\n",
    "The amount an individual receives from CalFresh will depend on different aspects such as income, expenses, and family size. In general, according to the DPSS, households at 130% Federal Poverty Level (FPL) are eligible for applying to CalFresh (gross income before tax). \n",
    "References (include links): \n",
    "\n",
    "1. https://www.benefits.gov/benefit/1228\n",
    "2. http://calfresh.guide/how-to-keep-getting-calfresh-benefits-certification-periods/\n",
    "3. https://www.cdss.ca.gov/inforesources/calfresh-outreach/about-us\n",
    "4. https://www.cdss.ca.gov/inforesources/cdss-programs/calfresh/eligibility-and-issuance-requirements\n",
    "5. https://www.cdss.ca.gov/foodstamps/res/pdf/CalFreshBrochureEng.pdf\n",
    "6. https://www.politico.com/2020-election/results/california/\n",
    "7. https://www.cdss.ca.gov/inforesources/research-and-data/calfresh-data-tables\n",
    "8. https://dpss.lacounty.gov/en/food/calfresh/gross-income.html\n"
   ]
  },
  {
   "cell_type": "markdown",
   "metadata": {},
   "source": [
    "# Hypothesis\n"
   ]
  },
  {
   "cell_type": "markdown",
   "metadata": {},
   "source": [
    "We predict that Democratic dominant counties are more likely to apply for CalFresh than Republic counties. Democatic counties tend to be more highly populated than Republic counties, which could be a factor for income discrepancies and a need for supplemental incomes like CalFresh. For example, a highly populated city is more likely to have a high cost of living, which could affect the number of lower income families that would apply for CalFresh."
   ]
  },
  {
   "cell_type": "markdown",
   "metadata": {},
   "source": [
    "# Data"
   ]
  },
  {
   "cell_type": "markdown",
   "metadata": {},
   "source": [
    "An issue our dataset runs into is that not everyone votes and not everyone applies for CalFresh. This can lead to some discrepancies in our data since the people who voted might not be the same as the people who applied for CalFresh. Therefore, our ideal dataset would include the application numbers for all CalFresh qualifying individuals and votes for all age-qualifying individuals in California. It would also include the party preference of the applicant and their age. These data would be collected in both CalFresh applications and voting booths. For example, the CalFresh application would have an extra field for political leanings and the vote ballot will have an option for whether the person applied to CalFresh or not. "
   ]
  },
  {
   "cell_type": "markdown",
   "metadata": {},
   "source": [
    "# Ethics & Privacy"
   ]
  },
  {
   "cell_type": "markdown",
   "metadata": {},
   "source": [
    "Since the information we will use for our project is publicly available on government websites, we believe we have permission to use and analyze the information. Individual information is not provided in these data so individual privacy is protected. To our knowledge, the data is collected ethically. "
   ]
  },
  {
   "cell_type": "markdown",
   "metadata": {},
   "source": [
    "# Team Expectations "
   ]
  },
  {
   "cell_type": "markdown",
   "metadata": {},
   "source": [
    "* Team Expectation 1 - Meet once a week for an hour on Tuesday at 3pm\n",
    "* Team Expectation 2 - Discuss what we want completed before our following Tuesday meeting\n",
    "* Team Expectation 3 - Communicate your thoughts loudly and effectively\n"
   ]
  },
  {
   "cell_type": "markdown",
   "metadata": {},
   "source": [
    "# Project Timeline Proposal"
   ]
  },
  {
   "cell_type": "markdown",
   "metadata": {},
   "source": [
    "| Meeting Date  | Meeting Time| Completed Before Meeting  | Discuss at Meeting |\n",
    "|---|---|---|---|\n",
    "| 1/19 | 3 PM | No Tasks | Reviewed previous group’s project | \n",
    "| 1/29 | 3 PM |  Came up with some project ideas | Discuss what we want our project to be | \n",
    "| 2/2  | 3 PM | Find and analyze data sets  | Discuss what data sets we will use   |\n",
    "| 2/9  | 3 PM | Import & Wrangle Data | Discuss what part of data sets is needed   |\n",
    "| 2/16 | 3 PM | EDA, Begin Analysis | Discuss how we want to present our data |\n",
    "| 2/23 | 3 PM | Discuss/Edit Analysis; Complete checkpoint | Discuss any problems our data analysis may have |\n",
    "| 3/2  | 3 PM | Complete analysis; Draft conclusions | Analysis the data as a group to create our conclusions |\n",
    "| 3/9  | 3 PM | Continue with data analysis | Discuss final adjustments to our project |\n",
    "| 3/16 | 3 PM | Final Revisions | Sumbit Project |\n",
    "\n",
    "\n",
    "\n"
   ]
  },
  {
   "cell_type": "code",
   "execution_count": null,
   "metadata": {},
   "outputs": [],
   "source": []
  }
 ],
 "metadata": {
  "kernelspec": {
   "display_name": "Python 3",
   "language": "python",
   "name": "python3"
  },
  "language_info": {
   "codemirror_mode": {
    "name": "ipython",
    "version": 3
   },
   "file_extension": ".py",
   "mimetype": "text/x-python",
   "name": "python",
   "nbconvert_exporter": "python",
   "pygments_lexer": "ipython3",
   "version": "3.7.2"
  }
 },
 "nbformat": 4,
 "nbformat_minor": 4
}
